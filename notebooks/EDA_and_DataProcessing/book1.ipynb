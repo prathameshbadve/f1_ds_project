{
 "cells": [
  {
   "cell_type": "code",
   "execution_count": 1,
   "id": "fc383610",
   "metadata": {},
   "outputs": [],
   "source": [
    "import pandas as pd\n",
    "from matplotlib import pyplot as plt"
   ]
  },
  {
   "cell_type": "code",
   "execution_count": 2,
   "id": "ecc9f336",
   "metadata": {},
   "outputs": [],
   "source": [
    "import sys\n",
    "from pathlib import Path\n",
    "\n",
    "current = Path.cwd()\n",
    "\n",
    "indicators = [\n",
    "    '.git', 'pyproject.toml'\n",
    "]\n",
    "\n",
    "for parent in [current] + list(current.parents):\n",
    "    if any((parent / indicator).exists() for indicator in indicators):\n",
    "        project_root = parent\n",
    "\n",
    "sys.path.insert(0, str(project_root))"
   ]
  },
  {
   "cell_type": "code",
   "execution_count": null,
   "id": "4bac2019",
   "metadata": {},
   "outputs": [],
   "source": [
    "filepath = Path(project_root / \"data/raw/2023/Australian Grand Prix/FP1/session_info.json\")"
   ]
  },
  {
   "cell_type": "code",
   "execution_count": null,
   "id": "cb79bea3",
   "metadata": {},
   "outputs": [],
   "source": [
    "print(filepath)"
   ]
  },
  {
   "cell_type": "code",
   "execution_count": null,
   "id": "39fbbc71",
   "metadata": {},
   "outputs": [],
   "source": [
    "import json"
   ]
  },
  {
   "cell_type": "code",
   "execution_count": null,
   "id": "8258a68b",
   "metadata": {},
   "outputs": [],
   "source": [
    "with open(filepath, \"r\", encoding=\"utf-8\") as f:\n",
    "    data = json.load(f)\n",
    "\n",
    "print(data)"
   ]
  },
  {
   "cell_type": "code",
   "execution_count": null,
   "id": "a5f5ca09",
   "metadata": {},
   "outputs": [],
   "source": [
    "type(data)"
   ]
  },
  {
   "cell_type": "code",
   "execution_count": null,
   "id": "d4c4b908",
   "metadata": {},
   "outputs": [],
   "source": [
    "copy = data.copy()"
   ]
  },
  {
   "cell_type": "code",
   "execution_count": null,
   "id": "b7a63498",
   "metadata": {},
   "outputs": [],
   "source": [
    "copy"
   ]
  },
  {
   "cell_type": "code",
   "execution_count": null,
   "id": "d4b2e236",
   "metadata": {},
   "outputs": [],
   "source": [
    "location_clean = str(copy['location'].strip().title())\n",
    "location_clean"
   ]
  },
  {
   "cell_type": "code",
   "execution_count": null,
   "id": "0a18c4da",
   "metadata": {},
   "outputs": [],
   "source": [
    "copy['location'].title()"
   ]
  },
  {
   "cell_type": "code",
   "execution_count": null,
   "id": "96c635e7",
   "metadata": {},
   "outputs": [],
   "source": [
    "off_event_name = copy[\"official_event_name\"]\n",
    "off_event_name"
   ]
  },
  {
   "cell_type": "code",
   "execution_count": null,
   "id": "27b9ca18",
   "metadata": {},
   "outputs": [],
   "source": [
    "event_name_cleaning = {\n",
    "    \"FORMULA 1\": \"\",\n",
    "    \"GRAND PRIX\": \"GP\",\n",
    "    \"EMIRATES\": \"\",  # Sponsor names\n",
    "    \"ARAMCO\": \"\",  # Sponsor names\n",
    "}"
   ]
  },
  {
   "cell_type": "code",
   "execution_count": null,
   "id": "8309d2ce",
   "metadata": {},
   "outputs": [],
   "source": [
    "off_event_name = \"FORMULA 1 ROLEX AUSTRALIAN GRAND PRIX 2023\"\n",
    "off_event_name"
   ]
  },
  {
   "cell_type": "code",
   "execution_count": null,
   "id": "e6a7ad08",
   "metadata": {},
   "outputs": [],
   "source": [
    "for pattern, replacement in event_name_cleaning.items():\n",
    "    print(f\"Pattern = {pattern}\")\n",
    "    print(f\"Replacement = {replacement}\")\n",
    "    off_event_name = off_event_name.replace(pattern, replacement)\n",
    "\n",
    "off_event_name"
   ]
  },
  {
   "cell_type": "code",
   "execution_count": null,
   "id": "43e6a70c",
   "metadata": {},
   "outputs": [],
   "source": [
    "off_event_name = \"FORMULA 1 ROLEX AUSTRALIAN GRAND PRIX 2023\"\n",
    "off_event_name = off_event_name.replace(\"FORMULA 1\", \"\")\n",
    "off_event_name"
   ]
  },
  {
   "cell_type": "code",
   "execution_count": null,
   "id": "e3d4ac65",
   "metadata": {},
   "outputs": [],
   "source": [
    "session_type_mapping = {\n",
    "    \"Practice 1\": \"FP1\",\n",
    "    \"Practice 2\": \"FP2\",\n",
    "    \"Practice 3\": \"FP3\",\n",
    "    \"Qualifying\": \"Q\",\n",
    "    \"Race\": \"R\",\n",
    "    \"Sprint\": \"S\",\n",
    "    \"Sprint Qualifying\": \"SQ\",\n",
    "    \"Sprint Shootout\": \"SS\",\n",
    "}"
   ]
  },
  {
   "cell_type": "code",
   "execution_count": null,
   "id": "046fbd58",
   "metadata": {},
   "outputs": [],
   "source": [
    "session_name = str(copy[\"session_name\"]).strip()\n",
    "session_name"
   ]
  },
  {
   "cell_type": "code",
   "execution_count": null,
   "id": "d59ac9af",
   "metadata": {},
   "outputs": [],
   "source": [
    "session_type = session_type_mapping.get(session_name, session_name)\n",
    "session_type\n"
   ]
  },
  {
   "cell_type": "code",
   "execution_count": 3,
   "id": "d5497818",
   "metadata": {},
   "outputs": [],
   "source": [
    "\"\"\"\n",
    "Test script for SessionProcessor\n",
    "\"\"\"\n",
    "\n",
    "from config.logging import setup_logging, get_logger\n",
    "from src.data_processing.core.session_processor import SessionProcessor\n",
    "from src.data_processing.base.processing_context import ProcessingContext\n",
    "import json\n",
    "\n",
    "\n",
    "def test_session_processor():\n",
    "    \"\"\"Test SessionProcessor with sample data\"\"\"\n",
    "\n",
    "    setup_logging()\n",
    "    logger = get_logger(\"test_session_processor\")\n",
    "\n",
    "    logger.info(\"=== Testing SessionProcessor ===\")\n",
    "\n",
    "    # Create sample session data (like what your ingestion produces)\n",
    "    sample_session_data = {\n",
    "        \"event_name\": \"Monaco Grand Prix\",\n",
    "        \"location\": \"Monte Carlo\",\n",
    "        \"country\": \"Monaco\",\n",
    "        \"session_name\": \"Qualifying\",\n",
    "        \"session_date\": \"2023-05-27\",\n",
    "        \"official_event_name\": \"FORMULA 1 GRAND PRIX DE MONACO 2023\",\n",
    "        \"event_format\": \"conventional\",\n",
    "        \"round_number\": 6,\n",
    "    }\n",
    "\n",
    "    try:\n",
    "        # Create processor\n",
    "        processor = SessionProcessor()\n",
    "\n",
    "        # Create context\n",
    "        context = ProcessingContext(year=2023, event_name=\"Monaco\", session_type=\"Q\")\n",
    "\n",
    "        # Process data\n",
    "        logger.info(\"Processing sample session data...\")\n",
    "        result_df, updated_context = processor.process(sample_session_data, context)\n",
    "\n",
    "        # Display results\n",
    "        logger.info(\"✅ Processing completed successfully!\")\n",
    "        logger.info(f\"Output shape: {result_df.shape}\")\n",
    "        logger.info(f\"Output columns: {list(result_df.columns)}\")\n",
    "        logger.info(\"Sample output:\")\n",
    "        print(result_df.to_string())\n",
    "\n",
    "        # Display processing stats\n",
    "        stats = processor.get_processing_stats()\n",
    "        logger.info(f\"Processing stats: {stats}\")\n",
    "\n",
    "        # Display context metadata\n",
    "        logger.info(\"Context metadata:\")\n",
    "        context_dict = updated_context.to_dict()\n",
    "        print(json.dumps(context_dict, indent=2, default=str))\n",
    "\n",
    "        return True\n",
    "\n",
    "    except Exception as e:\n",
    "        logger.error(f\"❌ Test failed: {str(e)}\")\n",
    "        import traceback\n",
    "\n",
    "        traceback.print_exc()\n",
    "        return False\n"
   ]
  },
  {
   "cell_type": "code",
   "execution_count": 4,
   "id": "02b9b5dc",
   "metadata": {},
   "outputs": [
    {
     "name": "stdout",
     "output_type": "stream",
     "text": [
      "2025-09-29 13:10:02 - config.logging - INFO - setup_logging:100 - Logging configured. Log directory: /Volumes/ExternalSSD/My Projects/Data Science Projects/f1_ds_project/notebooks/EDA_and_DataProcessing/monitoring/logs\n",
      "2025-09-29 13:10:02 - config.logging - INFO - setup_logging:101 - Environment: development\n",
      "2025-09-29 13:10:02 - test_session_processor - INFO - test_session_processor:17 - === Testing SessionProcessor ===\n",
      "2025-09-29 13:10:02 - test_session_processor - INFO - test_session_processor:39 - Processing sample session data...\n",
      "2025-09-29 13:10:02 - data_processing.session_processor - INFO - process:91 - Starting processing with session_processor\n",
      "2025-09-29 13:10:02 - data_processing.session_processor - INFO - _process_data:427 - Processing F1 session metadata\n",
      "2025-09-29 13:10:02 - data_processing.session_processor - INFO - _process_data:447 - Successfully processed session: 2023_Monaco_Grand_Prix_Q\n",
      "2025-09-29 13:10:02 - data_processing.session_processor - INFO - process:135 - Processing completed successfully in 0.05 s\n",
      "2025-09-29 13:10:02 - test_session_processor - INFO - test_session_processor:43 - ✅ Processing completed successfully!\n",
      "2025-09-29 13:10:02 - test_session_processor - INFO - test_session_processor:44 - Output shape: (1, 11)\n",
      "2025-09-29 13:10:02 - test_session_processor - INFO - test_session_processor:45 - Output columns: ['session_id', 'event_name_clean', 'session_name_clean', 'session_type', 'session_date_clean', 'year', 'location_clean', 'country_clean', 'weekend_format', 'round_number', 'processed_at']\n",
      "2025-09-29 13:10:02 - test_session_processor - INFO - test_session_processor:46 - Sample output:\n",
      "                 session_id   event_name_clean session_name_clean session_type session_date_clean  year location_clean country_clean weekend_format  round_number               processed_at\n",
      "0  2023_Monaco_Grand_Prix_Q  Monaco Grand Prix         Qualifying            Q         2023-05-27  2023    Monte Carlo        Monaco   Conventional             6 2025-09-29 13:10:02.616290\n",
      "2025-09-29 13:10:02 - test_session_processor - INFO - test_session_processor:51 - Processing stats: {'processor_name': 'session_processor', 'processor_version': '1.0.0', 'total_processed': 1, 'total_errors': 0, 'total_warnings': 0, 'success_rate': 100.0}\n",
      "2025-09-29 13:10:02 - test_session_processor - INFO - test_session_processor:54 - Context metadata:\n",
      "{\n",
      "  \"metadata\": {\n",
      "    \"processing_id\": \"bc740d8c-6019-4eb4-852b-a87de97f2af5\",\n",
      "    \"processor_name\": \"session_processor\",\n",
      "    \"processor_version\": \"1.0.0\",\n",
      "    \"start_time\": \"2025-09-29T13:10:02.601624\",\n",
      "    \"end_time\": \"2025-09-29T13:10:02.650218\",\n",
      "    \"duration_seconds\": 0.048594,\n",
      "    \"input_source\": null,\n",
      "    \"output_destination\": null,\n",
      "    \"records_processed\": 1,\n",
      "    \"validation_passed\": true,\n",
      "    \"warnings_count\": 0,\n",
      "    \"errors_count\": 0,\n",
      "    \"custom_metrics\": {\n",
      "      \"input_validation_metadata\": {\n",
      "        \"schema_validation\": {\n",
      "          \"input_type\": \"session_dict\",\n",
      "          \"keys\": [\n",
      "            \"event_name\",\n",
      "            \"location\",\n",
      "            \"country\",\n",
      "            \"session_name\",\n",
      "            \"session_date\",\n",
      "            \"official_event_name\",\n",
      "            \"event_format\",\n",
      "            \"round_number\"\n",
      "          ]\n",
      "        },\n",
      "        \"content_validation\": {\n",
      "          \"parsed_session_year\": 2023\n",
      "        },\n",
      "        \"validation_level\": \"warning\",\n",
      "        \"data_type\": \"dict\"\n",
      "      },\n",
      "      \"sessions_processed\": 1,\n",
      "      \"session_year\": 2023,\n",
      "      \"session_type\": \"Q\",\n",
      "      \"output_validation_metadata\": {\n",
      "        \"schema_validation\": {\n",
      "          \"output_row_count\": 1,\n",
      "          \"output_columns\": [\n",
      "            \"session_id\",\n",
      "            \"event_name_clean\",\n",
      "            \"session_name_clean\",\n",
      "            \"session_type\",\n",
      "            \"session_date_clean\",\n",
      "            \"year\",\n",
      "            \"location_clean\",\n",
      "            \"country_clean\",\n",
      "            \"weekend_format\",\n",
      "            \"round_number\",\n",
      "            \"processed_at\"\n",
      "          ]\n",
      "        },\n",
      "        \"content_validation\": {\n",
      "          \"unique_session_count\": 1,\n",
      "          \"total_sessions_processed\": 1,\n",
      "          \"years_covered\": [\n",
      "            2023\n",
      "          ],\n",
      "          \"session_types_processed\": {\n",
      "            \"Q\": 1\n",
      "          }\n",
      "        },\n",
      "        \"validation_level\": \"warning\",\n",
      "        \"data_type\": \"DataFrame\"\n",
      "      }\n",
      "    }\n",
      "  },\n",
      "  \"source_files\": [],\n",
      "  \"intermediate_files\": [],\n",
      "  \"output_files\": [],\n",
      "  \"config\": {},\n",
      "  \"year\": 2023,\n",
      "  \"event_name\": \"Monaco\",\n",
      "  \"session_type\": \"Q\",\n",
      "  \"errors\": [],\n",
      "  \"warnings\": [],\n",
      "  \"session_identifier\": \"2023_Monaco_Q\"\n",
      "}\n",
      "Test 1 passed successfully.\n"
     ]
    }
   ],
   "source": [
    "test1_passed = test_session_processor()\n",
    "print(\"Test 1 passed successfully.\")"
   ]
  },
  {
   "cell_type": "code",
   "execution_count": 18,
   "id": "3ec9cec9",
   "metadata": {},
   "outputs": [],
   "source": [
    "def test_with_real_data():\n",
    "    \"\"\"Test with real ingested data\"\"\"\n",
    "    \n",
    "    setup_logging()\n",
    "    logger = get_logger('test_session_processor_real')\n",
    "    \n",
    "    logger.info(\"=== Testing SessionProcessor with Real Data ===\")\n",
    "    \n",
    "    # Try to load real session data\n",
    "    try:\n",
    "        sample_file = Path(project_root / \"data/raw/2023/Monaco Grand Prix/Q/session_info.json\")\n",
    "        \n",
    "        if not sample_file.exists():\n",
    "            logger.warning(\"Real data file not found: %s\", sample_file)\n",
    "            logger.info(\"Skipping real data test\")\n",
    "            return True\n",
    "        \n",
    "        # Load real session info\n",
    "        with open(sample_file, 'r', encoding='utf-8') as f:\n",
    "            real_session_info = json.load(f)\n",
    "        \n",
    "        # Process with SessionProcessor\n",
    "        processor = SessionProcessor()\n",
    "        context = ProcessingContext(year=2023, event_name='Monaco', session_type='Q')\n",
    "        \n",
    "        result_df, updated_context = processor.process(real_session_info, context)\n",
    "        \n",
    "        logger.info(\"✅ Real data processing completed!\")\n",
    "        logger.info(f\"Output shape: {result_df.shape}\")\n",
    "        print(result_df.to_string())\n",
    "        \n",
    "        return True\n",
    "        \n",
    "    except Exception as e:\n",
    "        logger.error(f\"❌ Real data test failed: {str(e)}\")\n",
    "        import traceback\n",
    "        traceback.print_exc()\n",
    "        return False"
   ]
  },
  {
   "cell_type": "code",
   "execution_count": 26,
   "id": "7d90b6b1",
   "metadata": {},
   "outputs": [
    {
     "name": "stdout",
     "output_type": "stream",
     "text": [
      "2025-09-29 13:18:28 - config.logging - INFO - setup_logging:100 - Logging configured. Log directory: /Volumes/ExternalSSD/My Projects/Data Science Projects/f1_ds_project/notebooks/EDA_and_DataProcessing/monitoring/logs\n",
      "2025-09-29 13:18:28 - config.logging - INFO - setup_logging:101 - Environment: development\n",
      "2025-09-29 13:18:28 - test_session_processor_real - INFO - test_with_real_data:7 - === Testing SessionProcessor with Real Data ===\n",
      "2025-09-29 13:18:28 - data_processing.session_processor - INFO - process:91 - Starting processing with session_processor\n",
      "2025-09-29 13:18:28 - data_contracts.f1_session_input - WARNING - _log_validation_result:156 - f1_session_input validation passed with 1 warnings\n",
      "2025-09-29 13:18:28 - processing_context - WARNING - add_warning:131 - input validation - location_country: Location and country are identical: Monaco\n",
      "2025-09-29 13:18:28 - data_processing.session_processor - INFO - _process_data:427 - Processing F1 session metadata\n",
      "2025-09-29 13:18:28 - data_processing.session_processor - INFO - _process_data:447 - Successfully processed session: 2023_Monaco_Grand_Prix_Q\n",
      "2025-09-29 13:18:28 - data_processing.session_processor - INFO - process:135 - Processing completed successfully in 0.10 s\n",
      "2025-09-29 13:18:28 - test_session_processor_real - INFO - test_with_real_data:28 - ✅ Real data processing completed!\n",
      "2025-09-29 13:18:28 - test_session_processor_real - INFO - test_with_real_data:29 - Output shape: (1, 11)\n",
      "                 session_id   event_name_clean session_name_clean session_type  session_date_clean  year location_clean country_clean weekend_format  round_number               processed_at\n",
      "0  2023_Monaco_Grand_Prix_Q  Monaco Grand Prix         Qualifying            Q 2023-05-27 14:00:00  2023         Monaco        Monaco   Conventional             6 2025-09-29 13:18:28.414143\n"
     ]
    },
    {
     "data": {
      "text/plain": [
       "True"
      ]
     },
     "execution_count": 26,
     "metadata": {},
     "output_type": "execute_result"
    }
   ],
   "source": [
    "test_with_real_data()"
   ]
  },
  {
   "cell_type": "code",
   "execution_count": 19,
   "id": "bb430106",
   "metadata": {},
   "outputs": [],
   "source": [
    "sample_file = Path(project_root / \"data/raw/2023/Monaco Grand Prix/Q/session_info.json\")"
   ]
  },
  {
   "cell_type": "code",
   "execution_count": 20,
   "id": "42bbba26",
   "metadata": {},
   "outputs": [],
   "source": [
    "with open(sample_file, 'r', encoding='utf-8') as f:\n",
    "            real_session_info = json.load(f)"
   ]
  },
  {
   "cell_type": "code",
   "execution_count": 21,
   "id": "3aa951a8",
   "metadata": {},
   "outputs": [
    {
     "data": {
      "text/plain": [
       "{'event_name': 'Monaco Grand Prix',\n",
       " 'location': 'Monaco',\n",
       " 'country': 'Monaco',\n",
       " 'session_name': 'Qualifying',\n",
       " 'session_date': '2023-05-27 14:00:00',\n",
       " 'event_format': 'conventional',\n",
       " 'round_number': '6',\n",
       " 'official_event_name': 'FORMULA 1 GRAND PRIX DE MONACO 2023'}"
      ]
     },
     "execution_count": 21,
     "metadata": {},
     "output_type": "execute_result"
    }
   ],
   "source": [
    "real_session_info"
   ]
  },
  {
   "cell_type": "code",
   "execution_count": 22,
   "id": "f74f2f3e",
   "metadata": {},
   "outputs": [],
   "source": [
    "processor = SessionProcessor()\n",
    "context = ProcessingContext(year=2023, event_name='Monaco Grand Prix', session_type='Q')"
   ]
  },
  {
   "cell_type": "code",
   "execution_count": 23,
   "id": "05925413",
   "metadata": {},
   "outputs": [
    {
     "name": "stdout",
     "output_type": "stream",
     "text": [
      "2025-09-29 13:16:44 - data_processing.session_processor - INFO - process:91 - Starting processing with session_processor\n",
      "2025-09-29 13:16:44 - data_contracts.f1_session_input - WARNING - _log_validation_result:156 - f1_session_input validation passed with 1 warnings\n",
      "2025-09-29 13:16:44 - processing_context - WARNING - add_warning:131 - input validation - location_country: Location and country are identical: Monaco\n",
      "2025-09-29 13:16:44 - data_processing.session_processor - INFO - _process_data:427 - Processing F1 session metadata\n",
      "2025-09-29 13:16:44 - data_processing.session_processor - INFO - _process_data:447 - Successfully processed session: 2023_Monaco_Grand_Prix_Q\n",
      "2025-09-29 13:16:44 - data_processing.session_processor - INFO - process:135 - Processing completed successfully in 0.06 s\n"
     ]
    }
   ],
   "source": [
    "result_df, updated_context = processor.process(real_session_info, context)"
   ]
  },
  {
   "cell_type": "code",
   "execution_count": 25,
   "id": "6482ea85",
   "metadata": {},
   "outputs": [
    {
     "data": {
      "text/html": [
       "<div>\n",
       "<style scoped>\n",
       "    .dataframe tbody tr th:only-of-type {\n",
       "        vertical-align: middle;\n",
       "    }\n",
       "\n",
       "    .dataframe tbody tr th {\n",
       "        vertical-align: top;\n",
       "    }\n",
       "\n",
       "    .dataframe thead th {\n",
       "        text-align: right;\n",
       "    }\n",
       "</style>\n",
       "<table border=\"1\" class=\"dataframe\">\n",
       "  <thead>\n",
       "    <tr style=\"text-align: right;\">\n",
       "      <th></th>\n",
       "      <th>session_id</th>\n",
       "      <th>event_name_clean</th>\n",
       "      <th>session_name_clean</th>\n",
       "      <th>session_type</th>\n",
       "      <th>session_date_clean</th>\n",
       "      <th>year</th>\n",
       "      <th>location_clean</th>\n",
       "      <th>country_clean</th>\n",
       "      <th>weekend_format</th>\n",
       "      <th>round_number</th>\n",
       "      <th>processed_at</th>\n",
       "    </tr>\n",
       "  </thead>\n",
       "  <tbody>\n",
       "    <tr>\n",
       "      <th>0</th>\n",
       "      <td>2023_Monaco_Grand_Prix_Q</td>\n",
       "      <td>Monaco Grand Prix</td>\n",
       "      <td>Qualifying</td>\n",
       "      <td>Q</td>\n",
       "      <td>2023-05-27 14:00:00</td>\n",
       "      <td>2023</td>\n",
       "      <td>Monaco</td>\n",
       "      <td>Monaco</td>\n",
       "      <td>Conventional</td>\n",
       "      <td>6</td>\n",
       "      <td>2025-09-29 13:16:44.296269</td>\n",
       "    </tr>\n",
       "  </tbody>\n",
       "</table>\n",
       "</div>"
      ],
      "text/plain": [
       "                 session_id   event_name_clean session_name_clean  \\\n",
       "0  2023_Monaco_Grand_Prix_Q  Monaco Grand Prix         Qualifying   \n",
       "\n",
       "  session_type  session_date_clean  year location_clean country_clean  \\\n",
       "0            Q 2023-05-27 14:00:00  2023         Monaco        Monaco   \n",
       "\n",
       "  weekend_format  round_number               processed_at  \n",
       "0   Conventional             6 2025-09-29 13:16:44.296269  "
      ]
     },
     "execution_count": 25,
     "metadata": {},
     "output_type": "execute_result"
    }
   ],
   "source": [
    "result_df"
   ]
  },
  {
   "cell_type": "code",
   "execution_count": null,
   "id": "b34f51bc",
   "metadata": {},
   "outputs": [],
   "source": []
  }
 ],
 "metadata": {
  "kernelspec": {
   "display_name": ".venv",
   "language": "python",
   "name": "python3"
  },
  "language_info": {
   "codemirror_mode": {
    "name": "ipython",
    "version": 3
   },
   "file_extension": ".py",
   "mimetype": "text/x-python",
   "name": "python",
   "nbconvert_exporter": "python",
   "pygments_lexer": "ipython3",
   "version": "3.11.4"
  }
 },
 "nbformat": 4,
 "nbformat_minor": 5
}
