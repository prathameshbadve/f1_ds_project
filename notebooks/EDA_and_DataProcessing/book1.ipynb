{
 "cells": [
  {
   "cell_type": "code",
   "execution_count": 1,
   "id": "fc383610",
   "metadata": {},
   "outputs": [],
   "source": [
    "import pandas as pd\n",
    "from matplotlib import pyplot as plt"
   ]
  },
  {
   "cell_type": "code",
   "execution_count": 2,
   "id": "ecc9f336",
   "metadata": {},
   "outputs": [],
   "source": [
    "import sys\n",
    "from pathlib import Path\n",
    "\n",
    "current = Path.cwd()\n",
    "\n",
    "indicators = [\n",
    "    '.git', 'pyproject.toml'\n",
    "]\n",
    "\n",
    "for parent in [current] + list(current.parents):\n",
    "    if any((parent / indicator).exists() for indicator in indicators):\n",
    "        project_root = parent\n",
    "\n",
    "sys.path.insert(0, str(project_root))"
   ]
  },
  {
   "cell_type": "code",
   "execution_count": null,
   "id": "4bac2019",
   "metadata": {},
   "outputs": [],
   "source": [
    "filepath = Path(project_root / \"data/raw/2023/Australian Grand Prix/FP1/session_info.json\")"
   ]
  },
  {
   "cell_type": "code",
   "execution_count": null,
   "id": "cb79bea3",
   "metadata": {},
   "outputs": [],
   "source": [
    "print(filepath)"
   ]
  },
  {
   "cell_type": "code",
   "execution_count": null,
   "id": "39fbbc71",
   "metadata": {},
   "outputs": [],
   "source": [
    "import json"
   ]
  },
  {
   "cell_type": "code",
   "execution_count": null,
   "id": "8258a68b",
   "metadata": {},
   "outputs": [],
   "source": [
    "with open(filepath, \"r\", encoding=\"utf-8\") as f:\n",
    "    data = json.load(f)\n",
    "\n",
    "print(data)"
   ]
  },
  {
   "cell_type": "code",
   "execution_count": null,
   "id": "a5f5ca09",
   "metadata": {},
   "outputs": [],
   "source": [
    "type(data)"
   ]
  },
  {
   "cell_type": "code",
   "execution_count": null,
   "id": "d4c4b908",
   "metadata": {},
   "outputs": [],
   "source": [
    "copy = data.copy()"
   ]
  },
  {
   "cell_type": "code",
   "execution_count": null,
   "id": "b7a63498",
   "metadata": {},
   "outputs": [],
   "source": [
    "copy"
   ]
  },
  {
   "cell_type": "code",
   "execution_count": null,
   "id": "d4b2e236",
   "metadata": {},
   "outputs": [],
   "source": [
    "location_clean = str(copy['location'].strip().title())\n",
    "location_clean"
   ]
  },
  {
   "cell_type": "code",
   "execution_count": null,
   "id": "0a18c4da",
   "metadata": {},
   "outputs": [],
   "source": [
    "copy['location'].title()"
   ]
  },
  {
   "cell_type": "code",
   "execution_count": null,
   "id": "96c635e7",
   "metadata": {},
   "outputs": [],
   "source": [
    "off_event_name = copy[\"official_event_name\"]\n",
    "off_event_name"
   ]
  },
  {
   "cell_type": "code",
   "execution_count": null,
   "id": "27b9ca18",
   "metadata": {},
   "outputs": [],
   "source": [
    "event_name_cleaning = {\n",
    "    \"FORMULA 1\": \"\",\n",
    "    \"GRAND PRIX\": \"GP\",\n",
    "    \"EMIRATES\": \"\",  # Sponsor names\n",
    "    \"ARAMCO\": \"\",  # Sponsor names\n",
    "}"
   ]
  },
  {
   "cell_type": "code",
   "execution_count": null,
   "id": "8309d2ce",
   "metadata": {},
   "outputs": [],
   "source": [
    "off_event_name = \"FORMULA 1 ROLEX AUSTRALIAN GRAND PRIX 2023\"\n",
    "off_event_name"
   ]
  },
  {
   "cell_type": "code",
   "execution_count": null,
   "id": "e6a7ad08",
   "metadata": {},
   "outputs": [],
   "source": [
    "for pattern, replacement in event_name_cleaning.items():\n",
    "    print(f\"Pattern = {pattern}\")\n",
    "    print(f\"Replacement = {replacement}\")\n",
    "    off_event_name = off_event_name.replace(pattern, replacement)\n",
    "\n",
    "off_event_name"
   ]
  },
  {
   "cell_type": "code",
   "execution_count": null,
   "id": "43e6a70c",
   "metadata": {},
   "outputs": [],
   "source": [
    "off_event_name = \"FORMULA 1 ROLEX AUSTRALIAN GRAND PRIX 2023\"\n",
    "off_event_name = off_event_name.replace(\"FORMULA 1\", \"\")\n",
    "off_event_name"
   ]
  },
  {
   "cell_type": "code",
   "execution_count": null,
   "id": "e3d4ac65",
   "metadata": {},
   "outputs": [],
   "source": [
    "session_type_mapping = {\n",
    "    \"Practice 1\": \"FP1\",\n",
    "    \"Practice 2\": \"FP2\",\n",
    "    \"Practice 3\": \"FP3\",\n",
    "    \"Qualifying\": \"Q\",\n",
    "    \"Race\": \"R\",\n",
    "    \"Sprint\": \"S\",\n",
    "    \"Sprint Qualifying\": \"SQ\",\n",
    "    \"Sprint Shootout\": \"SS\",\n",
    "}"
   ]
  },
  {
   "cell_type": "code",
   "execution_count": null,
   "id": "046fbd58",
   "metadata": {},
   "outputs": [],
   "source": [
    "session_name = str(copy[\"session_name\"]).strip()\n",
    "session_name"
   ]
  },
  {
   "cell_type": "code",
   "execution_count": null,
   "id": "d59ac9af",
   "metadata": {},
   "outputs": [],
   "source": [
    "session_type = session_type_mapping.get(session_name, session_name)\n",
    "session_type\n"
   ]
  },
  {
   "cell_type": "code",
   "execution_count": null,
   "id": "d5497818",
   "metadata": {},
   "outputs": [],
   "source": [
    "\"\"\"\n",
    "Test script for SessionProcessor\n",
    "\"\"\"\n",
    "\n",
    "from config.logging import setup_logging, get_logger\n",
    "from src.data_processing.core.session_processor import SessionProcessor\n",
    "from src.data_processing.base.processing_context import ProcessingContext\n",
    "import json\n",
    "\n",
    "\n",
    "def test_session_processor():\n",
    "    \"\"\"Test SessionProcessor with sample data\"\"\"\n",
    "\n",
    "    setup_logging()\n",
    "    logger = get_logger(\"test_session_processor\")\n",
    "\n",
    "    logger.info(\"=== Testing SessionProcessor ===\")\n",
    "\n",
    "    # Create sample session data (like what your ingestion produces)\n",
    "    sample_session_data = {\n",
    "        \"event_name\": \"Monaco Grand Prix\",\n",
    "        \"location\": \"Monte Carlo\",\n",
    "        \"country\": \"Monaco\",\n",
    "        \"session_name\": \"Qualifying\",\n",
    "        \"session_date\": \"2023-05-27\",\n",
    "        \"official_event_name\": \"FORMULA 1 GRAND PRIX DE MONACO 2023\",\n",
    "        \"event_format\": \"conventional\",\n",
    "        \"round_number\": 6,\n",
    "    }\n",
    "\n",
    "    try:\n",
    "        # Create processor\n",
    "        processor = SessionProcessor()\n",
    "\n",
    "        # Create context\n",
    "        context = ProcessingContext(year=2023, event_name=\"Monaco\", session_type=\"Q\")\n",
    "\n",
    "        # Process data\n",
    "        logger.info(\"Processing sample session data...\")\n",
    "        result_df, updated_context = processor.process(sample_session_data, context)\n",
    "\n",
    "        # Display results\n",
    "        logger.info(\"✅ Processing completed successfully!\")\n",
    "        logger.info(f\"Output shape: {result_df.shape}\")\n",
    "        logger.info(f\"Output columns: {list(result_df.columns)}\")\n",
    "        logger.info(\"Sample output:\")\n",
    "        print(result_df.to_string())\n",
    "\n",
    "        # Display processing stats\n",
    "        stats = processor.get_processing_stats()\n",
    "        logger.info(f\"Processing stats: {stats}\")\n",
    "\n",
    "        # Display context metadata\n",
    "        logger.info(\"Context metadata:\")\n",
    "        context_dict = updated_context.to_dict()\n",
    "        print(json.dumps(context_dict, indent=2, default=str))\n",
    "\n",
    "        return True\n",
    "\n",
    "    except Exception as e:\n",
    "        logger.error(f\"❌ Test failed: {str(e)}\")\n",
    "        import traceback\n",
    "\n",
    "        traceback.print_exc()\n",
    "        return False\n"
   ]
  },
  {
   "cell_type": "code",
   "execution_count": null,
   "id": "02b9b5dc",
   "metadata": {},
   "outputs": [],
   "source": [
    "test1_passed = test_session_processor()\n",
    "print(\"Test 1 passed successfully.\")"
   ]
  },
  {
   "cell_type": "code",
   "execution_count": null,
   "id": "3ec9cec9",
   "metadata": {},
   "outputs": [],
   "source": [
    "def test_with_real_data():\n",
    "    \"\"\"Test with real ingested data\"\"\"\n",
    "    \n",
    "    setup_logging()\n",
    "    logger = get_logger('test_session_processor_real')\n",
    "    \n",
    "    logger.info(\"=== Testing SessionProcessor with Real Data ===\")\n",
    "    \n",
    "    # Try to load real session data\n",
    "    try:\n",
    "        sample_file = Path(project_root / \"data/raw/2023/Monaco Grand Prix/Q/session_info.json\")\n",
    "        \n",
    "        if not sample_file.exists():\n",
    "            logger.warning(\"Real data file not found: %s\", sample_file)\n",
    "            logger.info(\"Skipping real data test\")\n",
    "            return True\n",
    "        \n",
    "        # Load real session info\n",
    "        with open(sample_file, 'r', encoding='utf-8') as f:\n",
    "            real_session_info = json.load(f)\n",
    "        \n",
    "        # Process with SessionProcessor\n",
    "        processor = SessionProcessor()\n",
    "        context = ProcessingContext(year=2023, event_name='Monaco', session_type='Q')\n",
    "        \n",
    "        result_df, updated_context = processor.process(real_session_info, context)\n",
    "        \n",
    "        logger.info(\"✅ Real data processing completed!\")\n",
    "        logger.info(f\"Output shape: {result_df.shape}\")\n",
    "        print(result_df.to_string())\n",
    "        \n",
    "        return True\n",
    "        \n",
    "    except Exception as e:\n",
    "        logger.error(f\"❌ Real data test failed: {str(e)}\")\n",
    "        import traceback\n",
    "        traceback.print_exc()\n",
    "        return False"
   ]
  },
  {
   "cell_type": "code",
   "execution_count": null,
   "id": "7d90b6b1",
   "metadata": {},
   "outputs": [],
   "source": [
    "test_with_real_data()"
   ]
  },
  {
   "cell_type": "code",
   "execution_count": null,
   "id": "bb430106",
   "metadata": {},
   "outputs": [],
   "source": [
    "sample_file = Path(project_root / \"data/raw/2023/Monaco Grand Prix/Q/session_info.json\")"
   ]
  },
  {
   "cell_type": "code",
   "execution_count": null,
   "id": "42bbba26",
   "metadata": {},
   "outputs": [],
   "source": [
    "with open(sample_file, 'r', encoding='utf-8') as f:\n",
    "            real_session_info = json.load(f)"
   ]
  },
  {
   "cell_type": "code",
   "execution_count": null,
   "id": "3aa951a8",
   "metadata": {},
   "outputs": [],
   "source": [
    "real_session_info"
   ]
  },
  {
   "cell_type": "code",
   "execution_count": null,
   "id": "f74f2f3e",
   "metadata": {},
   "outputs": [],
   "source": [
    "processor = SessionProcessor()\n",
    "context = ProcessingContext(year=2023, event_name='Monaco Grand Prix', session_type='Q')"
   ]
  },
  {
   "cell_type": "code",
   "execution_count": null,
   "id": "05925413",
   "metadata": {},
   "outputs": [],
   "source": [
    "result_df, updated_context = processor.process(real_session_info, context)"
   ]
  },
  {
   "cell_type": "code",
   "execution_count": null,
   "id": "6482ea85",
   "metadata": {},
   "outputs": [],
   "source": [
    "result_df"
   ]
  },
  {
   "cell_type": "code",
   "execution_count": null,
   "id": "b34f51bc",
   "metadata": {},
   "outputs": [],
   "source": [
    "laps_data = pd.read_parquet(\"/Volumes/ExternalSSD/My Projects/Data Science Projects/f1_ds_project/data/raw/2023/Australian Grand Prix/FP1/laps.parquet\")\n",
    "laps_data.head()"
   ]
  },
  {
   "cell_type": "code",
   "execution_count": null,
   "id": "a6a9412c",
   "metadata": {},
   "outputs": [],
   "source": [
    "list(laps_data.columns)"
   ]
  },
  {
   "cell_type": "code",
   "execution_count": null,
   "id": "6e726c37",
   "metadata": {},
   "outputs": [],
   "source": [
    "laps_data.iloc[0, :]"
   ]
  },
  {
   "cell_type": "code",
   "execution_count": null,
   "id": "cf509b47",
   "metadata": {},
   "outputs": [],
   "source": [
    "test_laps = pd.DataFrame(\n",
    "    {\n",
    "        \"Driver\": [\"HAM\", \"HAM\", \"VER\", \"VER\", \"HAM\", \"VER\"],\n",
    "        \"LapNumber\": [1, None, None, 2, None, None]\n",
    "    }\n",
    ")\n",
    "test_laps"
   ]
  },
  {
   "cell_type": "code",
   "execution_count": null,
   "id": "0454c5f2",
   "metadata": {},
   "outputs": [],
   "source": [
    "test_laps[\"lap_number\"] = test_laps.groupby(\"Driver\").cumcount() + 1"
   ]
  },
  {
   "cell_type": "code",
   "execution_count": null,
   "id": "d335f2d0",
   "metadata": {},
   "outputs": [],
   "source": [
    "test_laps"
   ]
  },
  {
   "cell_type": "code",
   "execution_count": null,
   "id": "6f3c59b6",
   "metadata": {},
   "outputs": [],
   "source": [
    "test_laptime = laps_data.iloc[0, 3]\n",
    "test_laptime"
   ]
  },
  {
   "cell_type": "code",
   "execution_count": null,
   "id": "70b2dfa5",
   "metadata": {},
   "outputs": [],
   "source": [
    "isinstance(test_laptime, pd.Timedelta)"
   ]
  },
  {
   "cell_type": "code",
   "execution_count": null,
   "id": "98b03c78",
   "metadata": {},
   "outputs": [],
   "source": [
    "test_laptime2 = 107.43\n",
    "isinstance(test_laptime2, (int, float))"
   ]
  },
  {
   "cell_type": "code",
   "execution_count": 3,
   "id": "9f06d5f6",
   "metadata": {},
   "outputs": [],
   "source": [
    "from config.logging import setup_logging, get_logger\n",
    "from src.data_processing.core.lap_processor import LapProcessor\n",
    "from src.data_processing.base.processing_context import ProcessingContext\n",
    "import pandas as pd\n",
    "import json\n",
    "\n",
    "\n",
    "def test_lap_processor_with_sample_data():\n",
    "    \"\"\"Test LapProcessor with synthetic sample data\"\"\"\n",
    "    \n",
    "    setup_logging()\n",
    "    logger = get_logger('test_lap_processor')\n",
    "    \n",
    "    logger.info(\"=== Testing LapProcessor with Sample Data ===\")\n",
    "    \n",
    "    # Create sample lap data (like what your ingestion produces)\n",
    "    sample_laps = pd.DataFrame({\n",
    "        'Driver': ['VER', 'VER', 'VER', 'HAM', 'HAM', 'HAM', 'LEC', 'LEC', 'LEC'],\n",
    "        'DriverNumber': [1, 1, 1, 44, 44, 44, 16, 16, 16],\n",
    "        'Team': ['Red Bull Racing', 'Red Bull Racing', 'Red Bull Racing',\n",
    "                 'Mercedes', 'Mercedes', 'Mercedes',\n",
    "                 'Ferrari', 'Ferrari', 'Ferrari'],\n",
    "        'LapNumber': [1, 2, 3, 1, 2, 3, 1, 2, 3],\n",
    "        'LapTime': [pd.Timedelta(seconds=78.5), pd.Timedelta(seconds=77.2), pd.Timedelta(seconds=76.8),\n",
    "                    pd.Timedelta(seconds=79.1), pd.Timedelta(seconds=78.3), pd.Timedelta(seconds=77.9),\n",
    "                    pd.Timedelta(seconds=78.8), pd.Timedelta(seconds=77.8), pd.Timedelta(seconds=77.5)],\n",
    "        'LapTimeSeconds': [78.5, 77.2, 76.8, 79.1, 78.3, 77.9, 78.8, 77.8, 77.5],\n",
    "        'Position': [1, 1, 1, 3, 2, 2, 2, 3, 3],\n",
    "        'Compound': ['SOFT', 'SOFT', 'SOFT', 'MEDIUM', 'MEDIUM', 'MEDIUM', 'SOFT', 'SOFT', 'SOFT'],\n",
    "        'TyreLife': [1, 2, 3, 1, 2, 3, 1, 2, 3],\n",
    "        'Stint': [1, 1, 1, 1, 1, 1, 1, 1, 1],\n",
    "        'FreshTyre': [True, False, False, True, False, False, True, False, False],\n",
    "        'Sector1Time': [pd.Timedelta(seconds=25.1), pd.Timedelta(seconds=24.8), pd.Timedelta(seconds=24.6),\n",
    "                        pd.Timedelta(seconds=25.4), pd.Timedelta(seconds=25.1), pd.Timedelta(seconds=25.0),\n",
    "                        pd.Timedelta(seconds=25.2), pd.Timedelta(seconds=24.9), pd.Timedelta(seconds=24.7)],\n",
    "        'Sector2Time': [pd.Timedelta(seconds=28.2), pd.Timedelta(seconds=27.8), pd.Timedelta(seconds=27.5),\n",
    "                        pd.Timedelta(seconds=28.5), pd.Timedelta(seconds=28.1), pd.Timedelta(seconds=27.9),\n",
    "                        pd.Timedelta(seconds=28.3), pd.Timedelta(seconds=27.9), pd.Timedelta(seconds=27.7)],\n",
    "        'Sector3Time': [pd.Timedelta(seconds=25.2), pd.Timedelta(seconds=24.6), pd.Timedelta(seconds=24.7),\n",
    "                        pd.Timedelta(seconds=25.2), pd.Timedelta(seconds=25.1), pd.Timedelta(seconds=25.0),\n",
    "                        pd.Timedelta(seconds=25.3), pd.Timedelta(seconds=25.0), pd.Timedelta(seconds=25.1)],\n",
    "        'EventName': ['Monaco'] * 9,\n",
    "        'SessionName': ['Qualifying'] * 9,\n",
    "        'SessionDate': ['2023-05-27'] * 9,\n",
    "        \"Deleted\": [False] * 9,\n",
    "        \"DeletedReason\": [\"\"] * 9,\n",
    "    })\n",
    "    \n",
    "    # Wrap in session data structure\n",
    "    session_data = {\n",
    "        'session_info': {},\n",
    "        'laps': sample_laps,\n",
    "        'results': None,\n",
    "        'weather': None,\n",
    "        'telemetry': {}\n",
    "    }\n",
    "    \n",
    "    try:\n",
    "        # Create processor\n",
    "        processor = LapProcessor()\n",
    "        \n",
    "        # Create context\n",
    "        context = ProcessingContext(\n",
    "            year=2023,\n",
    "            event_name='Monaco',\n",
    "            session_type='Q'\n",
    "        )\n",
    "        \n",
    "        # Process data\n",
    "        logger.info(\"Processing sample lap data...\")\n",
    "        result_df, updated_context = processor.process(session_data, context)\n",
    "        \n",
    "        # Display results\n",
    "        logger.info(\"✅ Processing completed successfully!\")\n",
    "        logger.info(f\"Output shape: {result_df.shape}\")\n",
    "        logger.info(f\"Output columns: {list(result_df.columns)}\")\n",
    "        \n",
    "        logger.info(\"\\nSample output (first 5 laps):\")\n",
    "        display_columns = ['lap_id', 'driver_clean', 'lap_number', 'lap_time_seconds', \n",
    "                          'lap_time_delta_to_fastest', 'is_fastest_lap', 'is_valid_lap']\n",
    "        print(result_df[display_columns].head())\n",
    "        \n",
    "        logger.info(\"\\nLap statistics:\")\n",
    "        print(f\"Total laps: {len(result_df)}\")\n",
    "        print(f\"Unique drivers: {result_df['driver_clean'].nunique()}\")\n",
    "        print(f\"Valid laps: {result_df['is_valid_lap'].sum()}\")\n",
    "        print(f\"Fastest lap time: {result_df['lap_time_seconds'].min():.3f}s\")\n",
    "        print(f\"Slowest lap time: {result_df['lap_time_seconds'].max():.3f}s\")\n",
    "        \n",
    "        # Display processing stats\n",
    "        stats = processor.get_processing_stats()\n",
    "        logger.info(f\"\\nProcessing stats: {stats}\")\n",
    "        \n",
    "        # Display validation results\n",
    "        logger.info(\"\\nValidation summary:\")\n",
    "        logger.info(f\"Errors: {updated_context.metadata.errors_count}\")\n",
    "        logger.info(f\"Warnings: {updated_context.metadata.warnings_count}\")\n",
    "        \n",
    "        # if updated_context.has_warnings():\n",
    "        #     logger.info(\"Warnings:\")\n",
    "        #     for warning in updated_context.warnings[:5]:  # Show first 5\n",
    "        #         logger.info(f\"  - {warning}\")\n",
    "        \n",
    "        return True\n",
    "        \n",
    "    except Exception as e:\n",
    "        logger.error(f\"❌ Test failed: {str(e)}\")\n",
    "        import traceback\n",
    "        traceback.print_exc()\n",
    "        return False"
   ]
  },
  {
   "cell_type": "code",
   "execution_count": null,
   "id": "ef53eef7",
   "metadata": {},
   "outputs": [],
   "source": [
    "print(\"=\" * 80)\n",
    "print(\"LAP PROCESSOR TESTS\")\n",
    "print(\"=\" * 80)\n",
    "\n",
    "test1_passed = test_lap_processor_with_sample_data()\n",
    "print(\"\\n\" + \"=\" * 80 + \"\\n\")"
   ]
  },
  {
   "cell_type": "code",
   "execution_count": 4,
   "id": "4a5f846d",
   "metadata": {},
   "outputs": [],
   "source": [
    "def test_lap_processor_with_real_data():\n",
    "    \"\"\"Test LapProcessor with real ingested data\"\"\"\n",
    "    \n",
    "    setup_logging()\n",
    "    logger = get_logger('test_lap_processor_real')\n",
    "    \n",
    "    logger.info(\"=== Testing LapProcessor with Real Data ===\")\n",
    "    \n",
    "    try:\n",
    "        # Try to load real lap data\n",
    "        sample_file = Path(project_root / \"data/raw/2023/Monaco Grand Prix/Q/laps.parquet\")\n",
    "        \n",
    "        if not sample_file.exists():\n",
    "            logger.warning(f\"Real data file not found: {sample_file}\")\n",
    "            logger.info(\"Skipping real data test\")\n",
    "            return True\n",
    "        \n",
    "        # Load real laps\n",
    "        real_laps = pd.read_parquet(sample_file)\n",
    "        logger.info(f\"Loaded {len(real_laps)} real laps from {sample_file}\")\n",
    "        \n",
    "        # Create data structure\n",
    "        real_session_data = {\n",
    "            'session_info': {},\n",
    "            'laps': real_laps,\n",
    "            'results': None,\n",
    "            'weather': None,\n",
    "            'telemetry': {}\n",
    "        }\n",
    "        \n",
    "        # Process with LapProcessor\n",
    "        processor = LapProcessor()\n",
    "        context = ProcessingContext(year=2023, event_name='Monaco', session_type='Q')\n",
    "        \n",
    "        logger.info(\"Processing real lap data...\")\n",
    "        result_df, updated_context = processor.process(real_session_data, context)\n",
    "        \n",
    "        logger.info(\"✅ Real data processing completed!\")\n",
    "        logger.info(f\"Output shape: {result_df.shape}\")\n",
    "        \n",
    "        # Show some interesting statistics\n",
    "        logger.info(\"\\nReal data statistics:\")\n",
    "        print(f\"Total laps processed: {len(result_df)}\")\n",
    "        print(f\"Unique drivers: {result_df['driver_clean'].nunique()}\")\n",
    "        print(f\"Valid laps: {result_df['is_valid_lap'].sum()}\")\n",
    "        print(f\"Invalid laps: {(~result_df['is_valid_lap']).sum()}\")\n",
    "        \n",
    "        if 'lap_time_seconds' in result_df.columns:\n",
    "            valid_laps = result_df[result_df['is_valid_lap']]\n",
    "            if len(valid_laps) > 0:\n",
    "                print(f\"\\nLap time statistics (valid laps only):\")\n",
    "                print(f\"Fastest: {valid_laps['lap_time_seconds'].min():.3f}s\")\n",
    "                print(f\"Slowest: {valid_laps['lap_time_seconds'].max():.3f}s\")\n",
    "                print(f\"Mean: {valid_laps['lap_time_seconds'].mean():.3f}s\")\n",
    "                print(f\"Median: {valid_laps['lap_time_seconds'].median():.3f}s\")\n",
    "        \n",
    "        # Show fastest lap holder\n",
    "        if 'is_fastest_lap' in result_df.columns:\n",
    "            fastest = result_df[result_df['is_fastest_lap']]\n",
    "            if len(fastest) > 0:\n",
    "                print(f\"\\nFastest lap:\")\n",
    "                print(f\"Driver: {fastest.iloc[0]['driver_clean']}\")\n",
    "                print(f\"Time: {fastest.iloc[0]['lap_time_seconds']:.3f}s\")\n",
    "                print(f\"Lap Number: {fastest.iloc[0]['lap_number']}\")\n",
    "        \n",
    "        # Sample of processed data\n",
    "        logger.info(\"\\nSample of processed laps:\")\n",
    "        display_columns = ['driver_clean', 'lap_number', 'lap_time_seconds', \n",
    "                          'compound_clean', 'is_valid_lap', 'is_fastest_lap']\n",
    "        existing_display_cols = [col for col in display_columns if col in result_df.columns]\n",
    "        print(result_df[existing_display_cols].head(10).to_string())\n",
    "        \n",
    "        return True\n",
    "        \n",
    "    except Exception as e:\n",
    "        logger.error(f\"❌ Real data test failed: {str(e)}\")\n",
    "        import traceback\n",
    "        traceback.print_exc()\n",
    "        return False"
   ]
  },
  {
   "cell_type": "code",
   "execution_count": 5,
   "id": "45bb9776",
   "metadata": {},
   "outputs": [
    {
     "name": "stdout",
     "output_type": "stream",
     "text": [
      "================================================================================\n",
      "LAP PROCESSOR TESTS\n",
      "================================================================================\n",
      "2025-09-29 16:04:09 - config.logging - INFO - setup_logging:100 - Logging configured. Log directory: /Volumes/ExternalSSD/My Projects/Data Science Projects/f1_ds_project/notebooks/EDA_and_DataProcessing/monitoring/logs\n",
      "2025-09-29 16:04:09 - config.logging - INFO - setup_logging:101 - Environment: development\n",
      "2025-09-29 16:04:09 - test_lap_processor_real - INFO - test_lap_processor_with_real_data:7 - === Testing LapProcessor with Real Data ===\n",
      "2025-09-29 16:04:09 - test_lap_processor_real - INFO - test_lap_processor_with_real_data:20 - Loaded 420 real laps from /Volumes/ExternalSSD/My Projects/Data Science Projects/f1_ds_project/data/raw/2023/Monaco Grand Prix/Q/laps.parquet\n",
      "2025-09-29 16:04:09 - test_lap_processor_real - INFO - test_lap_processor_with_real_data:35 - Processing real lap data...\n",
      "2025-09-29 16:04:09 - data_processing.lap_processor - INFO - process:91 - Starting processing with lap_processor\n",
      "2025-09-29 16:04:09 - data_processing.lap_processor - INFO - _process_data:625 - Processing F1 lap timing data\n",
      "2025-09-29 16:04:09 - data_processing.lap_processor - INFO - _process_data:639 - Processing 420 laps from 20 drivers\n",
      "2025-09-29 16:04:09 - data_processing.lap_processor - INFO - _identify_valid_laps:1041 - Valid laps: 228, Invalid laps: 192\n",
      "2025-09-29 16:04:09 - data_processing.lap_processor - INFO - _process_data:674 - Successfully processed 420 laps\n",
      "2025-09-29 16:04:09 - data_processing.lap_processor - INFO - process:135 - Processing completed successfully in 0.07 s\n",
      "2025-09-29 16:04:09 - test_lap_processor_real - INFO - test_lap_processor_with_real_data:38 - ✅ Real data processing completed!\n",
      "2025-09-29 16:04:09 - test_lap_processor_real - INFO - test_lap_processor_with_real_data:39 - Output shape: (420, 27)\n",
      "2025-09-29 16:04:09 - test_lap_processor_real - INFO - test_lap_processor_with_real_data:42 - \n",
      "Real data statistics:\n",
      "Total laps processed: 420\n",
      "Unique drivers: 20\n",
      "Valid laps: 228\n",
      "Invalid laps: 192\n",
      "\n",
      "Lap time statistics (valid laps only):\n",
      "Fastest: 71.365s\n",
      "Slowest: 128.020s\n",
      "Mean: 86.948s\n",
      "Median: 73.870s\n",
      "\n",
      "Fastest lap:\n",
      "Driver: VER\n",
      "Time: 71.365s\n",
      "Lap Number: 29.0\n",
      "2025-09-29 16:04:09 - test_lap_processor_real - INFO - test_lap_processor_with_real_data:67 - \n",
      "Sample of processed laps:\n",
      "  driver_clean  lap_number  lap_time_seconds compound_clean  is_valid_lap  is_fastest_lap\n",
      "0          ALB         1.0               NaN           Soft         False           False\n",
      "1          ALB         2.0            75.237           Soft          True           False\n",
      "2          ALB         3.0           105.312           Soft          True           False\n",
      "3          ALB         4.0            91.853           Soft          True           False\n",
      "4          ALB         5.0               NaN           Soft         False           False\n",
      "5          ALB         6.0            91.465           Soft         False           False\n",
      "6          ALB         7.0            73.327           Soft          True           False\n",
      "7          ALB         8.0           109.006           Soft          True           False\n",
      "8          ALB         9.0            73.346           Soft          True           False\n",
      "9          ALB        10.0               NaN           Soft         False           False\n",
      "\n",
      "================================================================================\n",
      "\n"
     ]
    }
   ],
   "source": [
    "print(\"=\" * 80)\n",
    "print(\"LAP PROCESSOR TESTS\")\n",
    "print(\"=\" * 80)\n",
    "\n",
    "test2_passed = test_lap_processor_with_real_data()\n",
    "print(\"\\n\" + \"=\" * 80 + \"\\n\")"
   ]
  },
  {
   "cell_type": "code",
   "execution_count": null,
   "id": "284f8797",
   "metadata": {},
   "outputs": [],
   "source": [
    "quali_data = pd.read_parquet(Path(project_root / \"data/raw/2023/Monaco Grand Prix/Q/laps.parquet\"))"
   ]
  },
  {
   "cell_type": "code",
   "execution_count": null,
   "id": "6a67cdcd",
   "metadata": {},
   "outputs": [],
   "source": [
    "print(quali_data.shape)\n",
    "quali_data.head()"
   ]
  },
  {
   "cell_type": "code",
   "execution_count": null,
   "id": "6eecbf04",
   "metadata": {},
   "outputs": [],
   "source": [
    "race_data = pd.read_parquet(Path(project_root / \"data/raw/2023/Monaco Grand Prix/R/laps.parquet\"))\n",
    "print(race_data.shape)\n",
    "race_data.head()"
   ]
  },
  {
   "cell_type": "code",
   "execution_count": null,
   "id": "c20dc182",
   "metadata": {},
   "outputs": [],
   "source": []
  }
 ],
 "metadata": {
  "kernelspec": {
   "display_name": ".venv",
   "language": "python",
   "name": "python3"
  },
  "language_info": {
   "codemirror_mode": {
    "name": "ipython",
    "version": 3
   },
   "file_extension": ".py",
   "mimetype": "text/x-python",
   "name": "python",
   "nbconvert_exporter": "python",
   "pygments_lexer": "ipython3",
   "version": "3.11.4"
  }
 },
 "nbformat": 4,
 "nbformat_minor": 5
}
