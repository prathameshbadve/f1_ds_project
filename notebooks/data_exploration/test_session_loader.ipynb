{
 "cells": [
  {
   "cell_type": "code",
   "execution_count": 1,
   "id": "d335dad1",
   "metadata": {},
   "outputs": [],
   "source": [
    "import sys\n",
    "from pathlib import Path\n",
    "\n",
    "current = Path.cwd()\n",
    "\n",
    "indicators = [\n",
    "    '.git', 'pyproject.toml'\n",
    "]\n",
    "\n",
    "for parent in [current] + list(current.parents):\n",
    "    if any((parent / indicator).exists() for indicator in indicators):\n",
    "        project_root = parent\n",
    "\n",
    "sys.path.insert(0, str(project_root))"
   ]
  },
  {
   "cell_type": "code",
   "execution_count": 2,
   "id": "766ab034",
   "metadata": {},
   "outputs": [],
   "source": [
    "import pandas as pd\n",
    "from src.data_ingestion.fastf1_client import FastF1Client\n",
    "from src.data_ingestion.session_loader import SessionLoader"
   ]
  },
  {
   "cell_type": "code",
   "execution_count": 3,
   "id": "88109a70",
   "metadata": {},
   "outputs": [],
   "source": [
    "client = FastF1Client()\n",
    "session_loader = SessionLoader(client=client)"
   ]
  },
  {
   "cell_type": "code",
   "execution_count": 4,
   "id": "d25c313c",
   "metadata": {},
   "outputs": [],
   "source": [
    "from src.utils.helpers import load_data"
   ]
  },
  {
   "cell_type": "code",
   "execution_count": 5,
   "id": "044e21a4",
   "metadata": {},
   "outputs": [],
   "source": [
    "filepath = Path(\"/Volumes/ExternalSSD/My Projects/Data Science Projects/f1_ds_project/data/raw/2022/Monza/R/session_info.json\")\n",
    "monaco_2022_Q_session_info = load_data(filepath, file_format=\"json\")"
   ]
  },
  {
   "cell_type": "code",
   "execution_count": 11,
   "id": "47049dc9",
   "metadata": {},
   "outputs": [],
   "source": [
    "telemetry_filepath = Path(\"/Volumes/ExternalSSD/My Projects/Data Science Projects/f1_ds_project/data/raw/2022/Monza/R/telemetry.json\")\n",
    "monaco_2022_Q_telemetry = load_data(telemetry_filepath, file_format=\"json\")"
   ]
  },
  {
   "cell_type": "code",
   "execution_count": 12,
   "id": "9a884cb0",
   "metadata": {},
   "outputs": [
    {
     "data": {
      "text/html": [
       "<div>\n",
       "<style scoped>\n",
       "    .dataframe tbody tr th:only-of-type {\n",
       "        vertical-align: middle;\n",
       "    }\n",
       "\n",
       "    .dataframe tbody tr th {\n",
       "        vertical-align: top;\n",
       "    }\n",
       "\n",
       "    .dataframe thead th {\n",
       "        text-align: right;\n",
       "    }\n",
       "</style>\n",
       "<table border=\"1\" class=\"dataframe\">\n",
       "  <thead>\n",
       "    <tr style=\"text-align: right;\">\n",
       "      <th></th>\n",
       "      <th>telemetry_available</th>\n",
       "      <th>fastest_lap_telemetry</th>\n",
       "      <th>total_telemetry_points</th>\n",
       "      <th>fastest_lap_driver</th>\n",
       "      <th>fastest_lap_time</th>\n",
       "      <th>max_speed</th>\n",
       "      <th>avg_speed</th>\n",
       "      <th>max_rpm</th>\n",
       "    </tr>\n",
       "  </thead>\n",
       "  <tbody>\n",
       "    <tr>\n",
       "      <th>0</th>\n",
       "      <td>True</td>\n",
       "      <td>None</td>\n",
       "      <td>589</td>\n",
       "      <td>PER</td>\n",
       "      <td>0 days 00:01:24.030000</td>\n",
       "      <td>320.0</td>\n",
       "      <td>246.799578</td>\n",
       "      <td>12348.0</td>\n",
       "    </tr>\n",
       "  </tbody>\n",
       "</table>\n",
       "</div>"
      ],
      "text/plain": [
       "  telemetry_available fastest_lap_telemetry total_telemetry_points  \\\n",
       "0                True                  None                    589   \n",
       "\n",
       "  fastest_lap_driver        fastest_lap_time max_speed   avg_speed  max_rpm  \n",
       "0                PER  0 days 00:01:24.030000     320.0  246.799578  12348.0  "
      ]
     },
     "execution_count": 12,
     "metadata": {},
     "output_type": "execute_result"
    }
   ],
   "source": [
    "monaco_2022_Q_telemetry"
   ]
  },
  {
   "cell_type": "code",
   "execution_count": 6,
   "id": "29b6bd88",
   "metadata": {},
   "outputs": [
    {
     "name": "stderr",
     "output_type": "stream",
     "text": [
      "Cached laps data for 2022 Monaco Q - Missing data: {'LapTime': 98, 'PitOutTime': 301, 'PitInTime': 303, 'Sector1Time': 7, 'Sector2Time': 21, 'Sector3Time': 94, 'Sector1SessionTime': 7, 'Sector2SessionTime': 21, 'Sector3SessionTime': 94, 'SpeedI1': 7, 'SpeedI2': 21, 'SpeedFL': 101, 'SpeedST': 16, 'Position': 404, 'LapTimeSeconds': 98}\n",
      "Cached results data for 2022 Monaco Q - Missing data: {'GridPosition': 20, 'Q2': 5, 'Q3': 10, 'Time': 20, 'Points': 20, 'Laps': 20}\n",
      "Failed load_session_data after 0.39 seconds: The truth value of a DataFrame is ambiguous. Use a.empty, a.bool(), a.item(), a.any() or a.all().\n"
     ]
    },
    {
     "ename": "ValueError",
     "evalue": "The truth value of a DataFrame is ambiguous. Use a.empty, a.bool(), a.item(), a.any() or a.all().",
     "output_type": "error",
     "traceback": [
      "\u001b[31m---------------------------------------------------------------------------\u001b[39m",
      "\u001b[31mValueError\u001b[39m                                Traceback (most recent call last)",
      "\u001b[32m/var/folders/_6/d74k5g7d37l3zyt318k4ctv00000gn/T/ipykernel_88243/2095545103.py\u001b[39m in \u001b[36m?\u001b[39m\u001b[34m()\u001b[39m\n\u001b[32m----> \u001b[39m\u001b[32m1\u001b[39m test_monaco_session_loader = session_loader.load_session_data(\u001b[32m2022\u001b[39m, \u001b[33m\"Monaco\"\u001b[39m, \u001b[33m\"Q\"\u001b[39m)\n",
      "\u001b[32m/Volumes/ExternalSSD/My Projects/Data Science Projects/f1_ds_project/src/utils/decorators.py\u001b[39m in \u001b[36m?\u001b[39m\u001b[34m(*args, **kwargs)\u001b[39m\n\u001b[32m     78\u001b[39m                 func.__name__,\n\u001b[32m     79\u001b[39m                 execution_time,\n\u001b[32m     80\u001b[39m                 str(e),\n\u001b[32m     81\u001b[39m             )\n\u001b[32m---> \u001b[39m\u001b[32m82\u001b[39m             \u001b[38;5;28;01mraise\u001b[39;00m\n",
      "\u001b[32m/Volumes/ExternalSSD/My Projects/Data Science Projects/f1_ds_project/src/data_ingestion/session_loader.py\u001b[39m in \u001b[36m?\u001b[39m\u001b[34m(self, year, gp, session, force_refresh)\u001b[39m\n\u001b[32m    124\u001b[39m                 \"telemetry\": self._load_session_data_from_file(\n\u001b[32m    125\u001b[39m                     year, gp, session, \u001b[33m\"telemetry\"\u001b[39m\n\u001b[32m    126\u001b[39m                 ),\n\u001b[32m    127\u001b[39m             }\n\u001b[32m--> \u001b[39m\u001b[32m128\u001b[39m             \u001b[38;5;28;01mif\u001b[39;00m \u001b[38;5;28;01mNone\u001b[39;00m \u001b[38;5;28;01mnot\u001b[39;00m \u001b[38;5;28;01min\u001b[39;00m cached_session_data.values():\n\u001b[32m    129\u001b[39m                 \u001b[38;5;28;01mreturn\u001b[39;00m cached_session_data\n\u001b[32m    130\u001b[39m             \u001b[38;5;28;01melse\u001b[39;00m:\n\u001b[32m    131\u001b[39m                 \u001b[38;5;28;01mtry\u001b[39;00m:\n",
      "\u001b[32m/Volumes/ExternalSSD/My Projects/Data Science Projects/f1_ds_project/.venv/lib/python3.11/site-packages/pandas/core/generic.py\u001b[39m in \u001b[36m?\u001b[39m\u001b[34m(self)\u001b[39m\n\u001b[32m   1575\u001b[39m     @final\n\u001b[32m   1576\u001b[39m     \u001b[38;5;28;01mdef\u001b[39;00m __nonzero__(self) -> NoReturn:\n\u001b[32m-> \u001b[39m\u001b[32m1577\u001b[39m         raise ValueError(\n\u001b[32m   1578\u001b[39m             \u001b[33mf\"The truth value of a {type(self).__name__} is ambiguous. \"\u001b[39m\n\u001b[32m   1579\u001b[39m             \u001b[33m\"Use a.empty, a.bool(), a.item(), a.any() or a.all().\"\u001b[39m\n\u001b[32m   1580\u001b[39m         )\n",
      "\u001b[31mValueError\u001b[39m: The truth value of a DataFrame is ambiguous. Use a.empty, a.bool(), a.item(), a.any() or a.all()."
     ]
    }
   ],
   "source": [
    "test_monaco_session_loader = session_loader.load_session_data(2022, \"Monaco\", \"Q\")"
   ]
  },
  {
   "cell_type": "code",
   "execution_count": 13,
   "id": "cefe0e8b",
   "metadata": {},
   "outputs": [
    {
     "name": "stderr",
     "output_type": "stream",
     "text": [
      "core           INFO \tLoading data for Bahrain Grand Prix - Qualifying [v3.6.1]\n",
      "req            INFO \tUsing cached data for session_info\n",
      "req            INFO \tUsing cached data for driver_info\n",
      "req            INFO \tUsing cached data for session_status_data\n",
      "req            INFO \tUsing cached data for track_status_data\n",
      "req            INFO \tUsing cached data for _extended_timing_data\n",
      "req            INFO \tUsing cached data for timing_app_data\n",
      "core           INFO \tProcessing timing data...\n",
      "req            INFO \tUsing cached data for car_data\n",
      "req            INFO \tUsing cached data for position_data\n",
      "req            INFO \tUsing cached data for weather_data\n",
      "req            INFO \tUsing cached data for race_control_messages\n",
      "core           INFO \tFinished loading data for 20 drivers: ['16', '1', '55', '11', '44', '77', '20', '14', '63', '10', '31', '47', '4', '23', '24', '22', '27', '3', '18', '6']\n",
      "Lap Data - Missing data: {'LapTime': 91, 'PitOutTime': 172, 'PitInTime': 172, 'Sector1Time': 84, 'Sector2Time': 1, 'Sector3Time': 7, 'Sector1SessionTime': 84, 'Sector2SessionTime': 1, 'Sector3SessionTime': 7, 'SpeedI1': 1, 'SpeedI2': 1, 'SpeedFL': 84, 'Position': 256, 'LapTimeSeconds': 91}\n",
      "Session Results - Missing data: {'GridPosition': 20, 'Q2': 5, 'Q3': 10, 'Time': 20, 'Points': 20, 'Laps': 20}\n"
     ]
    }
   ],
   "source": [
    "test_bahrain_session_loader = session_loader.load_session_data(2022, \"Bahrain\", \"Q\")"
   ]
  },
  {
   "cell_type": "code",
   "execution_count": 14,
   "id": "402f8f8d",
   "metadata": {},
   "outputs": [
    {
     "data": {
      "text/plain": [
       "{'session_info': {'event_name': 'Bahrain Grand Prix',\n",
       "  'location': 'Sakhir',\n",
       "  'country': 'Bahrain',\n",
       "  'session_name': 'Qualifying',\n",
       "  'session_date': Timestamp('2022-03-19 15:00:00'),\n",
       "  'event_format': 'conventional',\n",
       "  'round_number': np.int64(1),\n",
       "  'official_event_name': 'FORMULA 1 GULF AIR BAHRAIN GRAND PRIX 2022'},\n",
       " 'laps':                       Time Driver DriverNumber                LapTime  \\\n",
       " 0   0 days 00:23:24.977000    LEC           16                    NaT   \n",
       " 1   0 days 00:24:56.448000    LEC           16 0 days 00:01:31.471000   \n",
       " 2   0 days 00:26:49.497000    LEC           16 0 days 00:01:53.049000   \n",
       " 3   0 days 00:44:52.882000    LEC           16                    NaT   \n",
       " 4   0 days 00:46:24.238000    LEC           16 0 days 00:01:31.356000   \n",
       " ..                     ...    ...          ...                    ...   \n",
       " 251 0 days 00:25:21.165000    LAT            6 0 days 00:01:33.634000   \n",
       " 252 0 days 00:27:17.730000    LAT            6 0 days 00:01:56.565000   \n",
       " 253 0 days 00:32:07.289000    LAT            6                    NaT   \n",
       " 254 0 days 00:33:41.075000    LAT            6 0 days 00:01:33.786000   \n",
       " 255 0 days 00:35:43.081000    LAT            6 0 days 00:02:02.006000   \n",
       " \n",
       "      LapNumber  Stint             PitOutTime              PitInTime  \\\n",
       " 0          1.0    1.0 0 days 00:21:25.144000                    NaT   \n",
       " 1          2.0    1.0                    NaT                    NaT   \n",
       " 2          3.0    1.0                    NaT 0 days 00:26:47.694000   \n",
       " 3          4.0    2.0 0 days 00:43:05.158000                    NaT   \n",
       " 4          5.0    2.0                    NaT                    NaT   \n",
       " ..         ...    ...                    ...                    ...   \n",
       " 251        4.0    2.0                    NaT                    NaT   \n",
       " 252        5.0    2.0                    NaT 0 days 00:27:15.890000   \n",
       " 253        6.0    3.0 0 days 00:30:01.230000                    NaT   \n",
       " 254        7.0    3.0                    NaT                    NaT   \n",
       " 255        8.0    3.0                    NaT 0 days 00:35:41.291000   \n",
       " \n",
       "                Sector1Time            Sector2Time  ... TrackStatus Position  \\\n",
       " 0                      NaT 0 days 00:00:47.783000  ...           1      NaN   \n",
       " 1   0 days 00:00:29.367000 0 days 00:00:39.067000  ...           1      NaN   \n",
       " 2   0 days 00:00:35.658000 0 days 00:00:49.179000  ...           1      NaN   \n",
       " 3                      NaT 0 days 00:00:45.919000  ...           1      NaN   \n",
       " 4   0 days 00:00:29.413000 0 days 00:00:39.065000  ...           1      NaN   \n",
       " ..                     ...                    ...  ...         ...      ...   \n",
       " 251 0 days 00:00:29.810000 0 days 00:00:40.495000  ...           1      NaN   \n",
       " 252 0 days 00:00:32.953000 0 days 00:00:54.041000  ...           1      NaN   \n",
       " 253                    NaT 0 days 00:00:53.772000  ...           1      NaN   \n",
       " 254 0 days 00:00:30.116000 0 days 00:00:40.370000  ...           1      NaN   \n",
       " 255 0 days 00:00:35.597000 0 days 00:00:53.898000  ...           1      NaN   \n",
       " \n",
       "     Deleted DeletedReason  FastF1Generated  IsAccurate  LapTimeSeconds  \\\n",
       " 0     False                          False       False             NaN   \n",
       " 1     False                          False        True          91.471   \n",
       " 2     False                          False       False         113.049   \n",
       " 3     False                          False       False             NaN   \n",
       " 4     False                          False        True          91.356   \n",
       " ..      ...           ...              ...         ...             ...   \n",
       " 251   False                          False        True          93.634   \n",
       " 252   False                          False       False         116.565   \n",
       " 253   False                          False       False             NaN   \n",
       " 254   False                          False        True          93.786   \n",
       " 255   False                          False       False         122.006   \n",
       " \n",
       "               EventName  SessionName         SessionDate  \n",
       " 0    Bahrain Grand Prix   Qualifying 2022-03-19 15:00:00  \n",
       " 1    Bahrain Grand Prix   Qualifying 2022-03-19 15:00:00  \n",
       " 2    Bahrain Grand Prix   Qualifying 2022-03-19 15:00:00  \n",
       " 3    Bahrain Grand Prix   Qualifying 2022-03-19 15:00:00  \n",
       " 4    Bahrain Grand Prix   Qualifying 2022-03-19 15:00:00  \n",
       " ..                  ...          ...                 ...  \n",
       " 251  Bahrain Grand Prix   Qualifying 2022-03-19 15:00:00  \n",
       " 252  Bahrain Grand Prix   Qualifying 2022-03-19 15:00:00  \n",
       " 253  Bahrain Grand Prix   Qualifying 2022-03-19 15:00:00  \n",
       " 254  Bahrain Grand Prix   Qualifying 2022-03-19 15:00:00  \n",
       " 255  Bahrain Grand Prix   Qualifying 2022-03-19 15:00:00  \n",
       " \n",
       " [256 rows x 35 columns],\n",
       " 'results':    DriverNumber BroadcastName Abbreviation         DriverId         TeamName  \\\n",
       " 16           16     C LECLERC          LEC          leclerc          Ferrari   \n",
       " 1             1  M VERSTAPPEN          VER   max_verstappen  Red Bull Racing   \n",
       " 55           55       C SAINZ          SAI            sainz          Ferrari   \n",
       " 11           11       S PEREZ          PER            perez  Red Bull Racing   \n",
       " 44           44    L HAMILTON          HAM         hamilton         Mercedes   \n",
       " 77           77      V BOTTAS          BOT           bottas       Alfa Romeo   \n",
       " 20           20   K MAGNUSSEN          MAG  kevin_magnussen     Haas F1 Team   \n",
       " 14           14      F ALONSO          ALO           alonso           Alpine   \n",
       " 63           63     G RUSSELL          RUS          russell         Mercedes   \n",
       " 10           10       P GASLY          GAS            gasly       AlphaTauri   \n",
       " 31           31        E OCON          OCO             ocon           Alpine   \n",
       " 47           47  M SCHUMACHER          MSC  mick_schumacher     Haas F1 Team   \n",
       " 4             4      L NORRIS          NOR           norris          McLaren   \n",
       " 23           23       A ALBON          ALB            albon         Williams   \n",
       " 24           24        G ZHOU          ZHO             zhou       Alfa Romeo   \n",
       " 22           22     Y TSUNODA          TSU          tsunoda       AlphaTauri   \n",
       " 27           27  N HULKENBERG          HUL       hulkenberg     Aston Martin   \n",
       " 3             3   D RICCIARDO          RIC        ricciardo          McLaren   \n",
       " 18           18      L STROLL          STR           stroll     Aston Martin   \n",
       " 6             6      N LATIFI          LAT           latifi         Williams   \n",
       " \n",
       "    TeamColor        TeamId  FirstName    LastName          FullName  ...  \\\n",
       " 16    ed1c24       ferrari    Charles     Leclerc   Charles Leclerc  ...   \n",
       " 1     1e5bc6      red_bull        Max  Verstappen    Max Verstappen  ...   \n",
       " 55    ed1c24       ferrari     Carlos       Sainz      Carlos Sainz  ...   \n",
       " 11    1e5bc6      red_bull     Sergio       Perez      Sergio Perez  ...   \n",
       " 44    6cd3bf      mercedes      Lewis    Hamilton    Lewis Hamilton  ...   \n",
       " 77    b12039          alfa   Valtteri      Bottas   Valtteri Bottas  ...   \n",
       " 20    b6babd          haas      Kevin   Magnussen   Kevin Magnussen  ...   \n",
       " 14    2293d1        alpine   Fernando      Alonso   Fernando Alonso  ...   \n",
       " 63    6cd3bf      mercedes     George     Russell    George Russell  ...   \n",
       " 10    4e7c9b    alphatauri     Pierre       Gasly      Pierre Gasly  ...   \n",
       " 31    2293d1        alpine    Esteban        Ocon      Esteban Ocon  ...   \n",
       " 47    b6babd          haas       Mick  Schumacher   Mick Schumacher  ...   \n",
       " 4     f58020       mclaren      Lando      Norris      Lando Norris  ...   \n",
       " 23    37bedd      williams  Alexander       Albon   Alexander Albon  ...   \n",
       " 24    b12039          alfa     Guanyu        Zhou       Guanyu Zhou  ...   \n",
       " 22    4e7c9b    alphatauri       Yuki     Tsunoda      Yuki Tsunoda  ...   \n",
       " 27    2d826d  aston_martin       Nico  Hulkenberg   Nico Hulkenberg  ...   \n",
       " 3     f58020       mclaren     Daniel   Ricciardo  Daniel Ricciardo  ...   \n",
       " 18    2d826d  aston_martin      Lance      Stroll      Lance Stroll  ...   \n",
       " 6     37bedd      williams   Nicholas      Latifi   Nicholas Latifi  ...   \n",
       " \n",
       "                        Q1                     Q2                     Q3 Time  \\\n",
       " 16 0 days 00:01:31.471000 0 days 00:01:30.932000 0 days 00:01:30.558000  NaT   \n",
       " 1  0 days 00:01:31.785000 0 days 00:01:30.757000 0 days 00:01:30.681000  NaT   \n",
       " 55 0 days 00:01:31.567000 0 days 00:01:30.787000 0 days 00:01:30.687000  NaT   \n",
       " 11 0 days 00:01:32.311000 0 days 00:01:31.008000 0 days 00:01:30.921000  NaT   \n",
       " 44 0 days 00:01:32.285000 0 days 00:01:31.048000 0 days 00:01:31.238000  NaT   \n",
       " 77 0 days 00:01:31.919000 0 days 00:01:31.717000 0 days 00:01:31.560000  NaT   \n",
       " 20 0 days 00:01:31.955000 0 days 00:01:31.461000 0 days 00:01:31.808000  NaT   \n",
       " 14 0 days 00:01:32.346000 0 days 00:01:31.621000 0 days 00:01:32.195000  NaT   \n",
       " 63 0 days 00:01:32.269000 0 days 00:01:31.252000 0 days 00:01:32.216000  NaT   \n",
       " 10 0 days 00:01:32.096000 0 days 00:01:31.635000 0 days 00:01:32.338000  NaT   \n",
       " 31 0 days 00:01:32.041000 0 days 00:01:31.782000                    NaT  NaT   \n",
       " 47 0 days 00:01:32.380000 0 days 00:01:31.998000                    NaT  NaT   \n",
       " 4  0 days 00:01:32.239000 0 days 00:01:32.008000                    NaT  NaT   \n",
       " 23 0 days 00:01:32.726000 0 days 00:01:32.664000                    NaT  NaT   \n",
       " 24 0 days 00:01:32.493000 0 days 00:01:33.543000                    NaT  NaT   \n",
       " 22 0 days 00:01:32.750000                    NaT                    NaT  NaT   \n",
       " 27 0 days 00:01:32.777000                    NaT                    NaT  NaT   \n",
       " 3  0 days 00:01:32.945000                    NaT                    NaT  NaT   \n",
       " 18 0 days 00:01:33.032000                    NaT                    NaT  NaT   \n",
       " 6  0 days 00:01:33.634000                    NaT                    NaT  NaT   \n",
       " \n",
       "     Status Points Laps           EventName SessionName         SessionDate  \n",
       " 16            NaN  NaN  Bahrain Grand Prix  Qualifying 2022-03-19 15:00:00  \n",
       " 1             NaN  NaN  Bahrain Grand Prix  Qualifying 2022-03-19 15:00:00  \n",
       " 55            NaN  NaN  Bahrain Grand Prix  Qualifying 2022-03-19 15:00:00  \n",
       " 11            NaN  NaN  Bahrain Grand Prix  Qualifying 2022-03-19 15:00:00  \n",
       " 44            NaN  NaN  Bahrain Grand Prix  Qualifying 2022-03-19 15:00:00  \n",
       " 77            NaN  NaN  Bahrain Grand Prix  Qualifying 2022-03-19 15:00:00  \n",
       " 20            NaN  NaN  Bahrain Grand Prix  Qualifying 2022-03-19 15:00:00  \n",
       " 14            NaN  NaN  Bahrain Grand Prix  Qualifying 2022-03-19 15:00:00  \n",
       " 63            NaN  NaN  Bahrain Grand Prix  Qualifying 2022-03-19 15:00:00  \n",
       " 10            NaN  NaN  Bahrain Grand Prix  Qualifying 2022-03-19 15:00:00  \n",
       " 31            NaN  NaN  Bahrain Grand Prix  Qualifying 2022-03-19 15:00:00  \n",
       " 47            NaN  NaN  Bahrain Grand Prix  Qualifying 2022-03-19 15:00:00  \n",
       " 4             NaN  NaN  Bahrain Grand Prix  Qualifying 2022-03-19 15:00:00  \n",
       " 23            NaN  NaN  Bahrain Grand Prix  Qualifying 2022-03-19 15:00:00  \n",
       " 24            NaN  NaN  Bahrain Grand Prix  Qualifying 2022-03-19 15:00:00  \n",
       " 22            NaN  NaN  Bahrain Grand Prix  Qualifying 2022-03-19 15:00:00  \n",
       " 27            NaN  NaN  Bahrain Grand Prix  Qualifying 2022-03-19 15:00:00  \n",
       " 3             NaN  NaN  Bahrain Grand Prix  Qualifying 2022-03-19 15:00:00  \n",
       " 18            NaN  NaN  Bahrain Grand Prix  Qualifying 2022-03-19 15:00:00  \n",
       " 6             NaN  NaN  Bahrain Grand Prix  Qualifying 2022-03-19 15:00:00  \n",
       " \n",
       " [20 rows x 25 columns],\n",
       " 'weather':                      Time  AirTemp  Humidity  Pressure  Rainfall  TrackTemp  \\\n",
       " 0  0 days 00:00:57.793000     19.7      57.0    1013.7     False       26.8   \n",
       " 1  0 days 00:01:57.807000     19.7      58.0    1013.7     False       26.7   \n",
       " 2  0 days 00:02:57.781000     19.7      58.0    1013.7     False       26.6   \n",
       " 3  0 days 00:03:57.787000     19.7      58.0    1013.7     False       26.5   \n",
       " 4  0 days 00:04:57.782000     19.6      58.0    1013.7     False       26.6   \n",
       " ..                    ...      ...       ...       ...       ...        ...   \n",
       " 73 0 days 01:13:58.010000     19.4      51.0    1013.7     False       24.3   \n",
       " 74 0 days 01:14:58.031000     19.4      51.0    1013.7     False       24.2   \n",
       " 75 0 days 01:15:58.035000     19.4      51.0    1013.7     False       24.2   \n",
       " 76 0 days 01:16:58.035000     19.4      51.0    1013.9     False       24.2   \n",
       " 77 0 days 01:17:58.035000     19.4      51.0    1013.7     False       24.2   \n",
       " \n",
       "     WindDirection  WindSpeed           EventName SessionName  \\\n",
       " 0              74        0.5  Bahrain Grand Prix  Qualifying   \n",
       " 1              35        0.5  Bahrain Grand Prix  Qualifying   \n",
       " 2              17        0.5  Bahrain Grand Prix  Qualifying   \n",
       " 3              14        0.6  Bahrain Grand Prix  Qualifying   \n",
       " 4              11        0.4  Bahrain Grand Prix  Qualifying   \n",
       " ..            ...        ...                 ...         ...   \n",
       " 73            343        0.6  Bahrain Grand Prix  Qualifying   \n",
       " 74              2        0.8  Bahrain Grand Prix  Qualifying   \n",
       " 75              7        0.5  Bahrain Grand Prix  Qualifying   \n",
       " 76              3        0.7  Bahrain Grand Prix  Qualifying   \n",
       " 77              8        0.5  Bahrain Grand Prix  Qualifying   \n",
       " \n",
       "            SessionDate  \n",
       " 0  2022-03-19 15:00:00  \n",
       " 1  2022-03-19 15:00:00  \n",
       " 2  2022-03-19 15:00:00  \n",
       " 3  2022-03-19 15:00:00  \n",
       " 4  2022-03-19 15:00:00  \n",
       " ..                 ...  \n",
       " 73 2022-03-19 15:00:00  \n",
       " 74 2022-03-19 15:00:00  \n",
       " 75 2022-03-19 15:00:00  \n",
       " 76 2022-03-19 15:00:00  \n",
       " 77 2022-03-19 15:00:00  \n",
       " \n",
       " [78 rows x 11 columns],\n",
       " 'telemetry': {'telemetry_available': True,\n",
       "  'fastest_lap_telemetry': None,\n",
       "  'total_telemetry_points': 697,\n",
       "  'fastest_lap_driver': 'LEC',\n",
       "  'fastest_lap_time': Timedelta('0 days 00:01:30.558000'),\n",
       "  'max_speed': np.float64(318.0),\n",
       "  'avg_speed': np.float64(214.77775932567252),\n",
       "  'max_rpm': np.float64(12014.0)}}"
      ]
     },
     "execution_count": 14,
     "metadata": {},
     "output_type": "execute_result"
    }
   ],
   "source": [
    "test_bahrain_session_loader"
   ]
  },
  {
   "cell_type": "code",
   "execution_count": 15,
   "id": "c4495145",
   "metadata": {},
   "outputs": [],
   "source": [
    "bahrain_2022_Q_telemetry = load_data(Path(\"/Volumes/ExternalSSD/My Projects/Data Science Projects/f1_ds_project/data/raw/2022/Bahrain/Q/telemetry.json\"), file_format=\"json\")\n"
   ]
  },
  {
   "cell_type": "code",
   "execution_count": 16,
   "id": "a60871dd",
   "metadata": {},
   "outputs": [
    {
     "data": {
      "text/html": [
       "<div>\n",
       "<style scoped>\n",
       "    .dataframe tbody tr th:only-of-type {\n",
       "        vertical-align: middle;\n",
       "    }\n",
       "\n",
       "    .dataframe tbody tr th {\n",
       "        vertical-align: top;\n",
       "    }\n",
       "\n",
       "    .dataframe thead th {\n",
       "        text-align: right;\n",
       "    }\n",
       "</style>\n",
       "<table border=\"1\" class=\"dataframe\">\n",
       "  <thead>\n",
       "    <tr style=\"text-align: right;\">\n",
       "      <th></th>\n",
       "      <th>telemetry_available</th>\n",
       "      <th>fastest_lap_telemetry</th>\n",
       "      <th>total_telemetry_points</th>\n",
       "      <th>fastest_lap_driver</th>\n",
       "      <th>fastest_lap_time</th>\n",
       "      <th>max_speed</th>\n",
       "      <th>avg_speed</th>\n",
       "      <th>max_rpm</th>\n",
       "    </tr>\n",
       "  </thead>\n",
       "  <tbody>\n",
       "    <tr>\n",
       "      <th>0</th>\n",
       "      <td>True</td>\n",
       "      <td>None</td>\n",
       "      <td>697</td>\n",
       "      <td>LEC</td>\n",
       "      <td>0 days 00:01:30.558000</td>\n",
       "      <td>318.0</td>\n",
       "      <td>214.777759</td>\n",
       "      <td>12014.0</td>\n",
       "    </tr>\n",
       "  </tbody>\n",
       "</table>\n",
       "</div>"
      ],
      "text/plain": [
       "  telemetry_available fastest_lap_telemetry total_telemetry_points  \\\n",
       "0                True                  None                    697   \n",
       "\n",
       "  fastest_lap_driver        fastest_lap_time max_speed   avg_speed  max_rpm  \n",
       "0                LEC  0 days 00:01:30.558000     318.0  214.777759  12014.0  "
      ]
     },
     "execution_count": 16,
     "metadata": {},
     "output_type": "execute_result"
    }
   ],
   "source": [
    "bahrain_2022_Q_telemetry"
   ]
  },
  {
   "cell_type": "code",
   "execution_count": 17,
   "id": "de159653",
   "metadata": {},
   "outputs": [
    {
     "name": "stderr",
     "output_type": "stream",
     "text": [
      "Cached laps data for 2022 Bahrain Q - Missing data: {'LapTime': 91, 'PitOutTime': 172, 'PitInTime': 172, 'Sector1Time': 84, 'Sector2Time': 1, 'Sector3Time': 7, 'Sector1SessionTime': 84, 'Sector2SessionTime': 1, 'Sector3SessionTime': 7, 'SpeedI1': 1, 'SpeedI2': 1, 'SpeedFL': 84, 'Position': 256, 'LapTimeSeconds': 91}\n",
      "Cached results data for 2022 Bahrain Q - Missing data: {'GridPosition': 20, 'Q2': 5, 'Q3': 10, 'Time': 20, 'Points': 20, 'Laps': 20}\n",
      "Failed load_session_data after 0.10 seconds: The truth value of a DataFrame is ambiguous. Use a.empty, a.bool(), a.item(), a.any() or a.all().\n"
     ]
    },
    {
     "ename": "ValueError",
     "evalue": "The truth value of a DataFrame is ambiguous. Use a.empty, a.bool(), a.item(), a.any() or a.all().",
     "output_type": "error",
     "traceback": [
      "\u001b[31m---------------------------------------------------------------------------\u001b[39m",
      "\u001b[31mValueError\u001b[39m                                Traceback (most recent call last)",
      "\u001b[32m/var/folders/_6/d74k5g7d37l3zyt318k4ctv00000gn/T/ipykernel_88243/3433616000.py\u001b[39m in \u001b[36m?\u001b[39m\u001b[34m()\u001b[39m\n\u001b[32m----> \u001b[39m\u001b[32m1\u001b[39m bahrain_2022_Q2 = session_loader.load_session_data(\u001b[32m2022\u001b[39m, \u001b[33m\"Bahrain\"\u001b[39m, \u001b[33m\"Q\"\u001b[39m)\n",
      "\u001b[32m/Volumes/ExternalSSD/My Projects/Data Science Projects/f1_ds_project/src/utils/decorators.py\u001b[39m in \u001b[36m?\u001b[39m\u001b[34m(*args, **kwargs)\u001b[39m\n\u001b[32m     78\u001b[39m                 func.__name__,\n\u001b[32m     79\u001b[39m                 execution_time,\n\u001b[32m     80\u001b[39m                 str(e),\n\u001b[32m     81\u001b[39m             )\n\u001b[32m---> \u001b[39m\u001b[32m82\u001b[39m             \u001b[38;5;28;01mraise\u001b[39;00m\n",
      "\u001b[32m/Volumes/ExternalSSD/My Projects/Data Science Projects/f1_ds_project/src/data_ingestion/session_loader.py\u001b[39m in \u001b[36m?\u001b[39m\u001b[34m(self, year, gp, session, force_refresh)\u001b[39m\n\u001b[32m    124\u001b[39m                 \"telemetry\": self._load_session_data_from_file(\n\u001b[32m    125\u001b[39m                     year, gp, session, \u001b[33m\"telemetry\"\u001b[39m\n\u001b[32m    126\u001b[39m                 ),\n\u001b[32m    127\u001b[39m             }\n\u001b[32m--> \u001b[39m\u001b[32m128\u001b[39m             \u001b[38;5;28;01mif\u001b[39;00m \u001b[38;5;28;01mNone\u001b[39;00m \u001b[38;5;28;01mnot\u001b[39;00m \u001b[38;5;28;01min\u001b[39;00m cached_session_data.values():\n\u001b[32m    129\u001b[39m                 \u001b[38;5;28;01mreturn\u001b[39;00m cached_session_data\n\u001b[32m    130\u001b[39m             \u001b[38;5;28;01melse\u001b[39;00m:\n\u001b[32m    131\u001b[39m                 \u001b[38;5;28;01mtry\u001b[39;00m:\n",
      "\u001b[32m/Volumes/ExternalSSD/My Projects/Data Science Projects/f1_ds_project/.venv/lib/python3.11/site-packages/pandas/core/generic.py\u001b[39m in \u001b[36m?\u001b[39m\u001b[34m(self)\u001b[39m\n\u001b[32m   1575\u001b[39m     @final\n\u001b[32m   1576\u001b[39m     \u001b[38;5;28;01mdef\u001b[39;00m __nonzero__(self) -> NoReturn:\n\u001b[32m-> \u001b[39m\u001b[32m1577\u001b[39m         raise ValueError(\n\u001b[32m   1578\u001b[39m             \u001b[33mf\"The truth value of a {type(self).__name__} is ambiguous. \"\u001b[39m\n\u001b[32m   1579\u001b[39m             \u001b[33m\"Use a.empty, a.bool(), a.item(), a.any() or a.all().\"\u001b[39m\n\u001b[32m   1580\u001b[39m         )\n",
      "\u001b[31mValueError\u001b[39m: The truth value of a DataFrame is ambiguous. Use a.empty, a.bool(), a.item(), a.any() or a.all()."
     ]
    }
   ],
   "source": [
    "bahrain_2022_Q2 = session_loader.load_session_data(2022, \"Bahrain\", \"Q\")"
   ]
  },
  {
   "cell_type": "code",
   "execution_count": 19,
   "id": "86b31e26",
   "metadata": {},
   "outputs": [],
   "source": [
    "test_value = session_loader._load_session_data_from_file(\n",
    "    2022,\n",
    "    \"Bahrain\",\n",
    "    \"Q\",\n",
    "    \"telemetry\"\n",
    ")\n"
   ]
  },
  {
   "cell_type": "code",
   "execution_count": 20,
   "id": "cc433a81",
   "metadata": {},
   "outputs": [
    {
     "data": {
      "text/html": [
       "<div>\n",
       "<style scoped>\n",
       "    .dataframe tbody tr th:only-of-type {\n",
       "        vertical-align: middle;\n",
       "    }\n",
       "\n",
       "    .dataframe tbody tr th {\n",
       "        vertical-align: top;\n",
       "    }\n",
       "\n",
       "    .dataframe thead th {\n",
       "        text-align: right;\n",
       "    }\n",
       "</style>\n",
       "<table border=\"1\" class=\"dataframe\">\n",
       "  <thead>\n",
       "    <tr style=\"text-align: right;\">\n",
       "      <th></th>\n",
       "      <th>telemetry_available</th>\n",
       "      <th>fastest_lap_telemetry</th>\n",
       "      <th>total_telemetry_points</th>\n",
       "      <th>fastest_lap_driver</th>\n",
       "      <th>fastest_lap_time</th>\n",
       "      <th>max_speed</th>\n",
       "      <th>avg_speed</th>\n",
       "      <th>max_rpm</th>\n",
       "    </tr>\n",
       "  </thead>\n",
       "  <tbody>\n",
       "    <tr>\n",
       "      <th>0</th>\n",
       "      <td>True</td>\n",
       "      <td>None</td>\n",
       "      <td>697</td>\n",
       "      <td>LEC</td>\n",
       "      <td>0 days 00:01:30.558000</td>\n",
       "      <td>318.0</td>\n",
       "      <td>214.777759</td>\n",
       "      <td>12014.0</td>\n",
       "    </tr>\n",
       "  </tbody>\n",
       "</table>\n",
       "</div>"
      ],
      "text/plain": [
       "  telemetry_available fastest_lap_telemetry total_telemetry_points  \\\n",
       "0                True                  None                    697   \n",
       "\n",
       "  fastest_lap_driver        fastest_lap_time max_speed   avg_speed  max_rpm  \n",
       "0                LEC  0 days 00:01:30.558000     318.0  214.777759  12014.0  "
      ]
     },
     "execution_count": 20,
     "metadata": {},
     "output_type": "execute_result"
    }
   ],
   "source": [
    "test_value"
   ]
  },
  {
   "cell_type": "code",
   "execution_count": 21,
   "id": "b3f960bd",
   "metadata": {},
   "outputs": [
    {
     "name": "stderr",
     "output_type": "stream",
     "text": [
      "Cached laps data for 2022 Bahrain Q - Missing data: {'LapTime': 91, 'PitOutTime': 172, 'PitInTime': 172, 'Sector1Time': 84, 'Sector2Time': 1, 'Sector3Time': 7, 'Sector1SessionTime': 84, 'Sector2SessionTime': 1, 'Sector3SessionTime': 7, 'SpeedI1': 1, 'SpeedI2': 1, 'SpeedFL': 84, 'Position': 256, 'LapTimeSeconds': 91}\n",
      "Cached results data for 2022 Bahrain Q - Missing data: {'GridPosition': 20, 'Q2': 5, 'Q3': 10, 'Time': 20, 'Points': 20, 'Laps': 20}\n"
     ]
    },
    {
     "name": "stdout",
     "output_type": "stream",
     "text": [
      "Loading session_info\n",
      "Loading laps\n",
      "Loading results\n",
      "Loading weather\n",
      "Loading telemetry\n"
     ]
    }
   ],
   "source": [
    "file_types = [\n",
    "    \"session_info\",\n",
    "    \"laps\",\n",
    "    \"results\",\n",
    "    \"weather\",\n",
    "    \"telemetry\",\n",
    "]\n",
    "\n",
    "for ft in file_types:\n",
    "    print(f\"Loading {ft}\")\n",
    "    test_value = session_loader._load_session_data_from_file(\n",
    "        2022, \"Bahrain\", \"Q\", ft\n",
    "    )"
   ]
  },
  {
   "cell_type": "code",
   "execution_count": 27,
   "id": "025bcd5a",
   "metadata": {},
   "outputs": [
    {
     "name": "stderr",
     "output_type": "stream",
     "text": [
      "Cached laps data for 2022 Bahrain Q - Missing data: {'LapTime': 91, 'PitOutTime': 172, 'PitInTime': 172, 'Sector1Time': 84, 'Sector2Time': 1, 'Sector3Time': 7, 'Sector1SessionTime': 84, 'Sector2SessionTime': 1, 'Sector3SessionTime': 7, 'SpeedI1': 1, 'SpeedI2': 1, 'SpeedFL': 84, 'Position': 256, 'LapTimeSeconds': 91}\n",
      "Cached results data for 2022 Bahrain Q - Missing data: {'GridPosition': 20, 'Q2': 5, 'Q3': 10, 'Time': 20, 'Points': 20, 'Laps': 20}\n"
     ]
    },
    {
     "name": "stderr",
     "output_type": "stream",
     "text": [
      "Failed load_session_data after 0.07 seconds: The truth value of a DataFrame is ambiguous. Use a.empty, a.bool(), a.item(), a.any() or a.all().\n"
     ]
    },
    {
     "ename": "ValueError",
     "evalue": "The truth value of a DataFrame is ambiguous. Use a.empty, a.bool(), a.item(), a.any() or a.all().",
     "output_type": "error",
     "traceback": [
      "\u001b[31m---------------------------------------------------------------------------\u001b[39m",
      "\u001b[31mValueError\u001b[39m                                Traceback (most recent call last)",
      "\u001b[32m/var/folders/_6/d74k5g7d37l3zyt318k4ctv00000gn/T/ipykernel_88243/760780530.py\u001b[39m in \u001b[36m?\u001b[39m\u001b[34m()\u001b[39m\n\u001b[32m----> \u001b[39m\u001b[32m1\u001b[39m bahrain2 = session_loader.load_session_data(\u001b[32m2022\u001b[39m, \u001b[33m\"Bahrain\"\u001b[39m, \u001b[33m\"Q\"\u001b[39m)\n",
      "\u001b[32m/Volumes/ExternalSSD/My Projects/Data Science Projects/f1_ds_project/src/utils/decorators.py\u001b[39m in \u001b[36m?\u001b[39m\u001b[34m(*args, **kwargs)\u001b[39m\n\u001b[32m     78\u001b[39m                 func.__name__,\n\u001b[32m     79\u001b[39m                 execution_time,\n\u001b[32m     80\u001b[39m                 str(e),\n\u001b[32m     81\u001b[39m             )\n\u001b[32m---> \u001b[39m\u001b[32m82\u001b[39m             \u001b[38;5;28;01mraise\u001b[39;00m\n",
      "\u001b[32m/Volumes/ExternalSSD/My Projects/Data Science Projects/f1_ds_project/src/data_ingestion/session_loader.py\u001b[39m in \u001b[36m?\u001b[39m\u001b[34m(self, year, gp, session, force_refresh)\u001b[39m\n\u001b[32m    124\u001b[39m                 \"telemetry\": self._load_session_data_from_file(\n\u001b[32m    125\u001b[39m                     year, gp, session, \u001b[33m\"telemetry\"\u001b[39m\n\u001b[32m    126\u001b[39m                 ),\n\u001b[32m    127\u001b[39m             }\n\u001b[32m--> \u001b[39m\u001b[32m128\u001b[39m \n\u001b[32m    129\u001b[39m             \u001b[38;5;28;01mif\u001b[39;00m \u001b[38;5;28;01mNone\u001b[39;00m \u001b[38;5;28;01mnot\u001b[39;00m \u001b[38;5;28;01min\u001b[39;00m cached_session_data.values():\n\u001b[32m    130\u001b[39m                 \u001b[38;5;28;01mreturn\u001b[39;00m cached_session_data\n\u001b[32m    131\u001b[39m \n",
      "\u001b[32m/Volumes/ExternalSSD/My Projects/Data Science Projects/f1_ds_project/.venv/lib/python3.11/site-packages/pandas/core/generic.py\u001b[39m in \u001b[36m?\u001b[39m\u001b[34m(self)\u001b[39m\n\u001b[32m   1575\u001b[39m     @final\n\u001b[32m   1576\u001b[39m     \u001b[38;5;28;01mdef\u001b[39;00m __nonzero__(self) -> NoReturn:\n\u001b[32m-> \u001b[39m\u001b[32m1577\u001b[39m         raise ValueError(\n\u001b[32m   1578\u001b[39m             \u001b[33mf\"The truth value of a {type(self).__name__} is ambiguous. \"\u001b[39m\n\u001b[32m   1579\u001b[39m             \u001b[33m\"Use a.empty, a.bool(), a.item(), a.any() or a.all().\"\u001b[39m\n\u001b[32m   1580\u001b[39m         )\n",
      "\u001b[31mValueError\u001b[39m: The truth value of a DataFrame is ambiguous. Use a.empty, a.bool(), a.item(), a.any() or a.all()."
     ]
    }
   ],
   "source": [
    "bahrain2 = session_loader.load_session_data(2022, \"Bahrain\", \"Q\")"
   ]
  },
  {
   "cell_type": "code",
   "execution_count": 4,
   "id": "bf1acec1",
   "metadata": {},
   "outputs": [
    {
     "name": "stderr",
     "output_type": "stream",
     "text": [
      "Cached laps data - Missing data: {'LapTime': 98, 'PitOutTime': 301, 'PitInTime': 303, 'Sector1Time': 7, 'Sector2Time': 21, 'Sector3Time': 94, 'Sector1SessionTime': 7, 'Sector2SessionTime': 21, 'Sector3SessionTime': 94, 'SpeedI1': 7, 'SpeedI2': 21, 'SpeedFL': 101, 'SpeedST': 16, 'Position': 404, 'LapTimeSeconds': 98}\n",
      "Cached results data - Missing data: {'GridPosition': 20, 'Q2': 5, 'Q3': 10, 'Time': 20, 'Points': 20, 'Laps': 20}\n"
     ]
    }
   ],
   "source": [
    "monaco = session_loader.load_session_data(2022, \"Monaco\", \"Q\")"
   ]
  },
  {
   "cell_type": "code",
   "execution_count": 5,
   "id": "f140ae70",
   "metadata": {},
   "outputs": [
    {
     "data": {
      "text/plain": [
       "{'event_name': 'Monaco Grand Prix',\n",
       " 'location': 'Monaco',\n",
       " 'country': 'Monaco',\n",
       " 'session_name': 'Qualifying',\n",
       " 'session_date': '2022-05-28 14:00:00',\n",
       " 'event_format': 'conventional',\n",
       " 'round_number': '7',\n",
       " 'official_event_name': 'FORMULA 1 GRAND PRIX DE MONACO 2022'}"
      ]
     },
     "execution_count": 5,
     "metadata": {},
     "output_type": "execute_result"
    }
   ],
   "source": [
    "monaco[\"session_info\"]"
   ]
  },
  {
   "cell_type": "code",
   "execution_count": null,
   "id": "8d9487dd",
   "metadata": {},
   "outputs": [],
   "source": []
  }
 ],
 "metadata": {
  "kernelspec": {
   "display_name": ".venv",
   "language": "python",
   "name": "python3"
  },
  "language_info": {
   "codemirror_mode": {
    "name": "ipython",
    "version": 3
   },
   "file_extension": ".py",
   "mimetype": "text/x-python",
   "name": "python",
   "nbconvert_exporter": "python",
   "pygments_lexer": "ipython3",
   "version": "3.11.4"
  }
 },
 "nbformat": 4,
 "nbformat_minor": 5
}
