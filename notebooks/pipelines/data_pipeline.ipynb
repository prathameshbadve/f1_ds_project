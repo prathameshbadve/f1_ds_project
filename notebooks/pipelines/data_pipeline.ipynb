{
 "cells": [
  {
   "cell_type": "code",
   "execution_count": 1,
   "id": "dc924e3f",
   "metadata": {},
   "outputs": [],
   "source": [
    "import sys\n",
    "from pathlib import Path\n",
    "\n",
    "current = Path.cwd()\n",
    "\n",
    "indicators = [\n",
    "    '.git', 'pyproject.toml'\n",
    "]\n",
    "\n",
    "for parent in [current] + list(current.parents):\n",
    "    if any((parent / indicator).exists() for indicator in indicators):\n",
    "        project_root = parent\n",
    "\n",
    "sys.path.insert(0, str(project_root))"
   ]
  },
  {
   "cell_type": "code",
   "execution_count": 2,
   "id": "d83c94cd",
   "metadata": {},
   "outputs": [],
   "source": [
    "from src.pipelines.data_pipeline import *"
   ]
  },
  {
   "cell_type": "code",
   "execution_count": 3,
   "id": "95c02c4b",
   "metadata": {},
   "outputs": [],
   "source": [
    "test_config = PipelineConfig.default_config()"
   ]
  },
  {
   "cell_type": "code",
   "execution_count": 5,
   "id": "2ed3ed2c",
   "metadata": {},
   "outputs": [
    {
     "data": {
      "text/plain": [
       "src.pipelines.data_pipeline.PipelineConfig"
      ]
     },
     "execution_count": 5,
     "metadata": {},
     "output_type": "execute_result"
    }
   ],
   "source": [
    "type(test_config)"
   ]
  },
  {
   "cell_type": "code",
   "execution_count": 6,
   "id": "79394f6f",
   "metadata": {},
   "outputs": [
    {
     "data": {
      "text/plain": [
       "[2022, 2023, 2024]"
      ]
     },
     "execution_count": 6,
     "metadata": {},
     "output_type": "execute_result"
    }
   ],
   "source": [
    "test_config.seasons"
   ]
  },
  {
   "cell_type": "code",
   "execution_count": 7,
   "id": "dca4b740",
   "metadata": {},
   "outputs": [
    {
     "data": {
      "text/plain": [
       "PipelineConfig(seasons=[2022, 2023, 2024], session_types=['FP1', 'FP2', 'FP3', 'Q', 'R'], parallel_seasons=False, parallel_events=True, max_workers=3, max_retries=2, retry_delay=5.0, validate_data=True, min_events_per_season=15, resume_on_failure=True, skip_existing=True, progress_interval=5)"
      ]
     },
     "execution_count": 7,
     "metadata": {},
     "output_type": "execute_result"
    }
   ],
   "source": [
    "test_config"
   ]
  },
  {
   "cell_type": "code",
   "execution_count": 8,
   "id": "02a39174",
   "metadata": {},
   "outputs": [
    {
     "data": {
      "text/plain": [
       "<bound method PipelineConfig.performance_config of <class 'src.pipelines.data_pipeline.PipelineConfig'>>"
      ]
     },
     "execution_count": 8,
     "metadata": {},
     "output_type": "execute_result"
    }
   ],
   "source": [
    "test_config.performance_config"
   ]
  },
  {
   "cell_type": "code",
   "execution_count": 9,
   "id": "3f5886e2",
   "metadata": {},
   "outputs": [
    {
     "data": {
      "text/plain": [
       "PipelineConfig(seasons=[2022, 2023, 2024], session_types=['FP1', 'FP2', 'FP3', 'Q', 'R'], parallel_seasons=False, parallel_events=True, max_workers=3, max_retries=2, retry_delay=5.0, validate_data=True, min_events_per_season=15, resume_on_failure=True, skip_existing=True, progress_interval=5)"
      ]
     },
     "execution_count": 9,
     "metadata": {},
     "output_type": "execute_result"
    }
   ],
   "source": [
    "test_config"
   ]
  },
  {
   "cell_type": "code",
   "execution_count": 11,
   "id": "855c4795",
   "metadata": {},
   "outputs": [],
   "source": [
    "test_config2 = test_config.performance_config()"
   ]
  },
  {
   "cell_type": "code",
   "execution_count": 12,
   "id": "2d6cb09d",
   "metadata": {},
   "outputs": [
    {
     "data": {
      "text/plain": [
       "PipelineConfig(seasons=[2018, 2019, 2020, 2021, 2022, 2023, 2024], session_types=['FP1', 'FP2', 'FP3', 'Q', 'R', 'S', 'SQ', 'SS'], parallel_seasons=True, parallel_events=True, max_workers=4, max_retries=1, retry_delay=2.0, validate_data=False, min_events_per_season=10, resume_on_failure=True, skip_existing=True, progress_interval=10)"
      ]
     },
     "execution_count": 12,
     "metadata": {},
     "output_type": "execute_result"
    }
   ],
   "source": [
    "test_config2"
   ]
  },
  {
   "cell_type": "code",
   "execution_count": 17,
   "id": "349cd5d6",
   "metadata": {},
   "outputs": [],
   "source": [
    "import datetime"
   ]
  },
  {
   "cell_type": "code",
   "execution_count": 18,
   "id": "3958670d",
   "metadata": {},
   "outputs": [],
   "source": [
    "date = datetime.datetime(2025, 9, 26, 17, 54, 30, 123456)"
   ]
  },
  {
   "cell_type": "code",
   "execution_count": 19,
   "id": "6d6c44ca",
   "metadata": {},
   "outputs": [],
   "source": [
    "ing_proc = IngestionProgress(4, 2, 80, 40, 400, 200, 0, date)"
   ]
  },
  {
   "cell_type": "code",
   "execution_count": 20,
   "id": "054b5248",
   "metadata": {},
   "outputs": [
    {
     "data": {
      "text/plain": [
       "50.0"
      ]
     },
     "execution_count": 20,
     "metadata": {},
     "output_type": "execute_result"
    }
   ],
   "source": [
    "ing_proc.progress_percent"
   ]
  },
  {
   "cell_type": "code",
   "execution_count": 21,
   "id": "2df7f26e",
   "metadata": {},
   "outputs": [
    {
     "data": {
      "text/plain": [
       "datetime.timedelta(seconds=95, microseconds=712820)"
      ]
     },
     "execution_count": 21,
     "metadata": {},
     "output_type": "execute_result"
    }
   ],
   "source": [
    "ing_proc.elapsed_time"
   ]
  },
  {
   "cell_type": "code",
   "execution_count": 22,
   "id": "8fbf3c54",
   "metadata": {},
   "outputs": [
    {
     "data": {
      "text/plain": [
       "datetime.datetime(2025, 9, 26, 17, 59, 1, 557799)"
      ]
     },
     "execution_count": 22,
     "metadata": {},
     "output_type": "execute_result"
    }
   ],
   "source": [
    "ing_proc.estimate_completion()"
   ]
  },
  {
   "cell_type": "code",
   "execution_count": null,
   "id": "a55986ff",
   "metadata": {},
   "outputs": [],
   "source": []
  }
 ],
 "metadata": {
  "kernelspec": {
   "display_name": ".venv",
   "language": "python",
   "name": "python3"
  },
  "language_info": {
   "codemirror_mode": {
    "name": "ipython",
    "version": 3
   },
   "file_extension": ".py",
   "mimetype": "text/x-python",
   "name": "python",
   "nbconvert_exporter": "python",
   "pygments_lexer": "ipython3",
   "version": "3.11.4"
  }
 },
 "nbformat": 4,
 "nbformat_minor": 5
}
